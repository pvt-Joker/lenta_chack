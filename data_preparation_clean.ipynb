{
 "cells": [
  {
   "cell_type": "code",
   "execution_count": 2,
   "id": "4b6bda15-e26f-467a-b22d-3c666c920fbf",
   "metadata": {},
   "outputs": [],
   "source": [
    "import vaex as vx\n",
    "import pandas as pd\n",
    "import numpy as np\n",
    "from tqdm import tqdm\n",
    "import plotly.express as px\n",
    "from plotly.offline import download_plotlyjs, init_notebook_mode, plot, iplot\n",
    "import plotly.graph_objs as go"
   ]
  },
  {
   "cell_type": "code",
   "execution_count": 2,
   "id": "2e03ff79-ca7e-45ac-aff8-fe2aad57e511",
   "metadata": {},
   "outputs": [],
   "source": [
    "def hash_dict_to_df(dictionary, name):\n",
    "    df = pd.Series(dictionary,index=dictionary.keys())\n",
    "    df = df.to_frame().reset_index().rename(columns={0:name})\n",
    "    return df"
   ]
  },
  {
   "cell_type": "markdown",
   "id": "63944cb2-4720-4164-aec5-c004a8556a1f",
   "metadata": {},
   "source": [
    "# Data Preparartion"
   ]
  },
  {
   "cell_type": "code",
   "execution_count": 36,
   "id": "cb2715ba-196a-426e-b197-f4e8e414e659",
   "metadata": {},
   "outputs": [],
   "source": [
    "train_raw = vx.from_csv(\"pricing_hackathon_checks_train.csv\", header=None)"
   ]
  },
  {
   "cell_type": "code",
   "execution_count": 4,
   "id": "ec13aaf4-c142-4ebe-a6e8-0997ed220de1",
   "metadata": {},
   "outputs": [],
   "source": [
    "test_raw = vx.from_csv(\"pricing_hackathon_checks_test.csv\", header=None)"
   ]
  },
  {
   "cell_type": "code",
   "execution_count": 3,
   "id": "447d8a82-a706-4d64-8221-846572fabe79",
   "metadata": {},
   "outputs": [],
   "source": [
    "hierarchy = pd.read_csv(\"pricing_hackathon_hierarchy.csv\", header=None)\n",
    "shops = pd.read_csv(\"pricing_hackathon_shops.csv\", header=None)"
   ]
  },
  {
   "cell_type": "code",
   "execution_count": 5,
   "id": "aa5f040e-83cc-45eb-9839-0a27b9ef1f69",
   "metadata": {},
   "outputs": [],
   "source": [
    "hierarchy.rename(columns={0:\"sku\", 1:\"class\", 2:\"group\", 3:\"category\", 4:\"subcategory\"}, inplace=True)"
   ]
  },
  {
   "cell_type": "code",
   "execution_count": 125,
   "id": "816e35dd-4cda-400f-8f8e-218a373470fc",
   "metadata": {
    "collapsed": true,
    "jupyter": {
     "outputs_hidden": true
    },
    "tags": []
   },
   "outputs": [
    {
     "data": {
      "text/html": [
       "<div>\n",
       "<style scoped>\n",
       "    .dataframe tbody tr th:only-of-type {\n",
       "        vertical-align: middle;\n",
       "    }\n",
       "\n",
       "    .dataframe tbody tr th {\n",
       "        vertical-align: top;\n",
       "    }\n",
       "\n",
       "    .dataframe thead th {\n",
       "        text-align: right;\n",
       "    }\n",
       "</style>\n",
       "<table border=\"1\" class=\"dataframe\">\n",
       "  <thead>\n",
       "    <tr style=\"text-align: right;\">\n",
       "      <th></th>\n",
       "      <th>index</th>\n",
       "      <th>sku</th>\n",
       "    </tr>\n",
       "  </thead>\n",
       "  <tbody>\n",
       "    <tr>\n",
       "      <th>0</th>\n",
       "      <td>16b4bff70d409ddb77c8107a528cf94b</td>\n",
       "      <td>0</td>\n",
       "    </tr>\n",
       "    <tr>\n",
       "      <th>1</th>\n",
       "      <td>fc6867c8b4ce831c16fa7961958270d4</td>\n",
       "      <td>1</td>\n",
       "    </tr>\n",
       "    <tr>\n",
       "      <th>2</th>\n",
       "      <td>1b3353cb266de9c2bcc2fc5b911973f0</td>\n",
       "      <td>2</td>\n",
       "    </tr>\n",
       "    <tr>\n",
       "      <th>3</th>\n",
       "      <td>a3d57e327b84fb971e09b2b33c890538</td>\n",
       "      <td>3</td>\n",
       "    </tr>\n",
       "    <tr>\n",
       "      <th>4</th>\n",
       "      <td>1c71460770f458c06a29ed650c0974cc</td>\n",
       "      <td>4</td>\n",
       "    </tr>\n",
       "    <tr>\n",
       "      <th>...</th>\n",
       "      <td>...</td>\n",
       "      <td>...</td>\n",
       "    </tr>\n",
       "    <tr>\n",
       "      <th>123367</th>\n",
       "      <td>2171b026186b6d76891905f2d620de6b</td>\n",
       "      <td>123367</td>\n",
       "    </tr>\n",
       "    <tr>\n",
       "      <th>123368</th>\n",
       "      <td>39c9ec2433b27c40cb2c52c1a0d6ed1d</td>\n",
       "      <td>123368</td>\n",
       "    </tr>\n",
       "    <tr>\n",
       "      <th>123369</th>\n",
       "      <td>44682cad71db14162d0f3a23ea0b7b05</td>\n",
       "      <td>123369</td>\n",
       "    </tr>\n",
       "    <tr>\n",
       "      <th>123370</th>\n",
       "      <td>aeec3b99d48e90e84943545d91f93566</td>\n",
       "      <td>123370</td>\n",
       "    </tr>\n",
       "    <tr>\n",
       "      <th>123371</th>\n",
       "      <td>7676e103e2efae144fc6c989a19d3374</td>\n",
       "      <td>123371</td>\n",
       "    </tr>\n",
       "  </tbody>\n",
       "</table>\n",
       "<p>123372 rows × 2 columns</p>\n",
       "</div>"
      ],
      "text/plain": [
       "                                   index     sku\n",
       "0       16b4bff70d409ddb77c8107a528cf94b       0\n",
       "1       fc6867c8b4ce831c16fa7961958270d4       1\n",
       "2       1b3353cb266de9c2bcc2fc5b911973f0       2\n",
       "3       a3d57e327b84fb971e09b2b33c890538       3\n",
       "4       1c71460770f458c06a29ed650c0974cc       4\n",
       "...                                  ...     ...\n",
       "123367  2171b026186b6d76891905f2d620de6b  123367\n",
       "123368  39c9ec2433b27c40cb2c52c1a0d6ed1d  123368\n",
       "123369  44682cad71db14162d0f3a23ea0b7b05  123369\n",
       "123370  aeec3b99d48e90e84943545d91f93566  123370\n",
       "123371  7676e103e2efae144fc6c989a19d3374  123371\n",
       "\n",
       "[123372 rows x 2 columns]"
      ]
     },
     "execution_count": 125,
     "metadata": {},
     "output_type": "execute_result"
    }
   ],
   "source": [
    "sku_dict = dict(zip(hierarchy.sku.values, range(hierarchy['sku'].nunique())))\n",
    "sku = hash_dict_to_df(sku_dict, \"sku\")\n",
    "sku.to_csv(\"sku.csv\", index=None)"
   ]
  },
  {
   "cell_type": "code",
   "execution_count": 6,
   "id": "17d0a5c3-aeb0-4837-adf7-0a216cc1c6e1",
   "metadata": {},
   "outputs": [],
   "source": [
    "shops.rename(columns={0:\"division_id\", 1:\"region_id\", 2:\"city_id\", 3:\"shop_id\", 4:\"type_loc_id\", \n",
    "                      5:\"type_size_id\", 6:\"type_format_id\", 7:\"type_wealth_id\", 8:\"is_store\",\n",
    "                      9:\"is_active\", 10:\"is_ex_billa\"}, inplace=True)"
   ]
  },
  {
   "cell_type": "code",
   "execution_count": 130,
   "id": "01dfb409-1172-4ebb-9855-5a13349e4753",
   "metadata": {
    "tags": []
   },
   "outputs": [],
   "source": [
    "shops_dict = dict(zip(shops.shop_id.values, range(shops['shop_id'].nunique())))\n",
    "shop_id = hash_dict_to_df(shops_dict, \"shop_id\")\n",
    "shop_id.to_csv(\"shop_id.csv\", index=None)"
   ]
  },
  {
   "cell_type": "markdown",
   "id": "42373d1f-a733-46c6-b66f-e34cfce02c03",
   "metadata": {},
   "source": [
    "## Replacing hashes with int"
   ]
  },
  {
   "cell_type": "code",
   "execution_count": 7,
   "id": "688776f3-88d9-490e-a4e7-2ac8134ec25a",
   "metadata": {},
   "outputs": [],
   "source": [
    "column_train_names={\"0\":\"client_id\", \"1\":\"day\", \"2\":\"shop_id\", \"3\":\"check_id\", \"4\":\"time\", \n",
    "              \"5\":\"sku\", \"6\":\"promo_id\", \"7\":\"check_pos\", \"8\":\"num_sales\", \"9\":\"supplier_price\",\n",
    "              \"10\":\"selling_price\", \"11\":\"discount\", \"12\":\"region_name\"}\n",
    "\n",
    "column_test_names={\"0\":\"client_id\", \"1\":\"day\", \"2\":\"shop_id\", \"3\":\"check_id\", \"4\":\"time\", \n",
    "              \"5\":\"sku\", \"6\":\"promo_id\", \"7\":\"supplier_price\",\n",
    "              \"8\":\"selling_price\", \"9\":\"discount\", \"10\":\"region_name\"}"
   ]
  },
  {
   "cell_type": "code",
   "execution_count": 8,
   "id": "57969c23-6db3-43cc-ba40-81941f77cada",
   "metadata": {
    "collapsed": true,
    "jupyter": {
     "outputs_hidden": true
    },
    "tags": []
   },
   "outputs": [
    {
     "ename": "NameError",
     "evalue": "name 'train_raw' is not defined",
     "output_type": "error",
     "traceback": [
      "\u001b[0;31m---------------------------------------------------------------------------\u001b[0m",
      "\u001b[0;31mNameError\u001b[0m                                 Traceback (most recent call last)",
      "\u001b[0;32m/var/folders/64/svd0gdmx7kz_3vg0x7752y440000gn/T/ipykernel_80939/722805422.py\u001b[0m in \u001b[0;36m<module>\u001b[0;34m\u001b[0m\n\u001b[1;32m      1\u001b[0m \u001b[0;32mfor\u001b[0m \u001b[0mname\u001b[0m \u001b[0;32min\u001b[0m \u001b[0mcolumn_train_names\u001b[0m\u001b[0;34m.\u001b[0m\u001b[0mkeys\u001b[0m\u001b[0;34m(\u001b[0m\u001b[0;34m)\u001b[0m\u001b[0;34m:\u001b[0m\u001b[0;34m\u001b[0m\u001b[0;34m\u001b[0m\u001b[0m\n\u001b[0;32m----> 2\u001b[0;31m     \u001b[0mtrain_raw\u001b[0m\u001b[0;34m.\u001b[0m\u001b[0mrename\u001b[0m\u001b[0;34m(\u001b[0m\u001b[0mname\u001b[0m\u001b[0;34m,\u001b[0m \u001b[0mcolumn_train_names\u001b[0m\u001b[0;34m[\u001b[0m\u001b[0mname\u001b[0m\u001b[0;34m]\u001b[0m\u001b[0;34m)\u001b[0m\u001b[0;34m\u001b[0m\u001b[0;34m\u001b[0m\u001b[0m\n\u001b[0m\u001b[1;32m      3\u001b[0m \u001b[0;34m\u001b[0m\u001b[0m\n\u001b[1;32m      4\u001b[0m \u001b[0;32mfor\u001b[0m \u001b[0mname\u001b[0m \u001b[0;32min\u001b[0m \u001b[0mcolumn_test_names\u001b[0m\u001b[0;34m.\u001b[0m\u001b[0mkeys\u001b[0m\u001b[0;34m(\u001b[0m\u001b[0;34m)\u001b[0m\u001b[0;34m:\u001b[0m\u001b[0;34m\u001b[0m\u001b[0;34m\u001b[0m\u001b[0m\n\u001b[1;32m      5\u001b[0m     \u001b[0mtest_raw\u001b[0m\u001b[0;34m.\u001b[0m\u001b[0mrename\u001b[0m\u001b[0;34m(\u001b[0m\u001b[0mname\u001b[0m\u001b[0;34m,\u001b[0m \u001b[0mcolumn_test_names\u001b[0m\u001b[0;34m[\u001b[0m\u001b[0mname\u001b[0m\u001b[0;34m]\u001b[0m\u001b[0;34m)\u001b[0m\u001b[0;34m\u001b[0m\u001b[0;34m\u001b[0m\u001b[0m\n",
      "\u001b[0;31mNameError\u001b[0m: name 'train_raw' is not defined"
     ]
    }
   ],
   "source": [
    "for name in column_train_names.keys():\n",
    "    train_raw.rename(name, column_train_names[name])\n",
    "\n",
    "for name in column_test_names.keys():\n",
    "    test_raw.rename(name, column_test_names[name])"
   ]
  },
  {
   "cell_type": "code",
   "execution_count": 38,
   "id": "9695492f-54be-494c-ab9c-5df0e452c7ed",
   "metadata": {
    "tags": []
   },
   "outputs": [
    {
     "data": {
      "text/html": [
       "<table>\n",
       "<thead>\n",
       "<tr><th>#                                     </th><th>client_id                       </th><th>day     </th><th>shop_id                         </th><th>check_id                        </th><th>time    </th><th>sku                             </th><th>promo_id                        </th><th>check_pos  </th><th>num_sales  </th><th>supplier_price  </th><th>selling_price  </th><th>discount  </th></tr>\n",
       "</thead>\n",
       "<tbody>\n",
       "<tr><td><i style='opacity: 0.6'>0</i>         </td><td>644474c3d41185fa4c4f427095954f06</td><td>20191017</td><td>d2ac32e14d651b9ed03f26f845a11597</td><td>f0478c7f392532b5b9843e144a31cb78</td><td>14:35:26</td><td>98f463552b07d49686c8be996251c778</td><td>7215ee9c7d9dc229d2921a40e899ec5f</td><td>4          </td><td>1.0        </td><td>24.94           </td><td>48.09          </td><td>2.6       </td></tr>\n",
       "<tr><td><i style='opacity: 0.6'>1</i>         </td><td>644474c3d41185fa4c4f427095954f06</td><td>20191017</td><td>d2ac32e14d651b9ed03f26f845a11597</td><td>f0478c7f392532b5b9843e144a31cb78</td><td>14:35:26</td><td>b75147feae4cf8ec07fb5f2cef855def</td><td>7215ee9c7d9dc229d2921a40e899ec5f</td><td>1          </td><td>1.0        </td><td>1.14            </td><td>3.79           </td><td>0.2       </td></tr>\n",
       "<tr><td><i style='opacity: 0.6'>2</i>         </td><td>644474c3d41185fa4c4f427095954f06</td><td>20191017</td><td>d2ac32e14d651b9ed03f26f845a11597</td><td>f0478c7f392532b5b9843e144a31cb78</td><td>14:35:26</td><td>16b4bff70d409ddb77c8107a528cf94b</td><td>7215ee9c7d9dc229d2921a40e899ec5f</td><td>8          </td><td>1.0        </td><td>85.18           </td><td>198.18         </td><td>10.61     </td></tr>\n",
       "<tr><td><i style='opacity: 0.6'>3</i>         </td><td>644474c3d41185fa4c4f427095954f06</td><td>20191017</td><td>d2ac32e14d651b9ed03f26f845a11597</td><td>f0478c7f392532b5b9843e144a31cb78</td><td>14:35:26</td><td>b0fc4f923bae05bf1276315a8efae07c</td><td>7215ee9c7d9dc229d2921a40e899ec5f</td><td>3          </td><td>1.0        </td><td>29.17           </td><td>99.99          </td><td>5.3       </td></tr>\n",
       "<tr><td><i style='opacity: 0.6'>4</i>         </td><td>644474c3d41185fa4c4f427095954f06</td><td>20191017</td><td>d2ac32e14d651b9ed03f26f845a11597</td><td>f0478c7f392532b5b9843e144a31cb78</td><td>14:35:26</td><td>f0c13fc65a011d296e01626c0c2649d0</td><td>e0ceb21aca7b78a5ea6418b0c28e9c95</td><td>5          </td><td>1.476      </td><td>157.66          </td><td>174.79         </td><td>58.26     </td></tr>\n",
       "<tr><td>...                                   </td><td>...                             </td><td>...     </td><td>...                             </td><td>...                             </td><td>...     </td><td>...                             </td><td>...                             </td><td>...        </td><td>...        </td><td>...             </td><td>...            </td><td>...       </td></tr>\n",
       "<tr><td><i style='opacity: 0.6'>21,701,352</i></td><td>70067d1dce4f981c6985e15b9aa72a8a</td><td>20201114</td><td>087c8abfaee44ebbf0c2871976a2ab18</td><td>fc87375a3b44f61d077e63bce5e4790a</td><td>11:43:56</td><td>12919109e871ab98e3bf57ff71f1bc5b</td><td>fff5050c55970cb6ae38750cc947a33e</td><td>13         </td><td>1.0        </td><td>58.05           </td><td>79.99          </td><td>30.6      </td></tr>\n",
       "<tr><td><i style='opacity: 0.6'>21,701,353</i></td><td>70067d1dce4f981c6985e15b9aa72a8a</td><td>20201114</td><td>087c8abfaee44ebbf0c2871976a2ab18</td><td>fc87375a3b44f61d077e63bce5e4790a</td><td>11:43:56</td><td>34b2b0706163451a09a18a71998231ff</td><td>369d0d5afe646c011f39484143c7a679</td><td>17         </td><td>1.0        </td><td>18.02           </td><td>38.99          </td><td>7.4       </td></tr>\n",
       "<tr><td><i style='opacity: 0.6'>21,701,354</i></td><td>70067d1dce4f981c6985e15b9aa72a8a</td><td>20201114</td><td>087c8abfaee44ebbf0c2871976a2ab18</td><td>fc87375a3b44f61d077e63bce5e4790a</td><td>11:43:56</td><td>52db5409c318639598c084ff02b90c18</td><td>4f4400004707a9cd38b9c0964d4f6f2b</td><td>9          </td><td>1.0        </td><td>77.36           </td><td>119.98         </td><td>27.41     </td></tr>\n",
       "<tr><td><i style='opacity: 0.6'>21,701,355</i></td><td>70067d1dce4f981c6985e15b9aa72a8a</td><td>20201114</td><td>087c8abfaee44ebbf0c2871976a2ab18</td><td>21ef842bba62869663333693a5f7980c</td><td>13:09:19</td><td>103e025e3ab812402ee283cfa924348d</td><td>6561c4625123c9ca405837b753931345</td><td>6          </td><td>2.0        </td><td>13.42           </td><td>0.02           </td><td>103.16    </td></tr>\n",
       "<tr><td><i style='opacity: 0.6'>21,701,356</i></td><td>70067d1dce4f981c6985e15b9aa72a8a</td><td>20201114</td><td>087c8abfaee44ebbf0c2871976a2ab18</td><td>fc87375a3b44f61d077e63bce5e4790a</td><td>11:43:56</td><td>ab326ebb8d117f0ed55b50c630dabe83</td><td>064e879bcee8e3fc177b5564fa9cec77</td><td>19         </td><td>1.0        </td><td>30.86           </td><td>34.99          </td><td>34.5      </td></tr>\n",
       "</tbody>\n",
       "</table>"
      ],
      "text/plain": [
       "#           client_id                         day       shop_id                           check_id                          time      sku                               promo_id                          check_pos    num_sales    supplier_price    selling_price    discount\n",
       "0           644474c3d41185fa4c4f427095954f06  20191017  d2ac32e14d651b9ed03f26f845a11597  f0478c7f392532b5b9843e144a31cb78  14:35:26  98f463552b07d49686c8be996251c778  7215ee9c7d9dc229d2921a40e899ec5f  4            1.0          24.94             48.09            2.6\n",
       "1           644474c3d41185fa4c4f427095954f06  20191017  d2ac32e14d651b9ed03f26f845a11597  f0478c7f392532b5b9843e144a31cb78  14:35:26  b75147feae4cf8ec07fb5f2cef855def  7215ee9c7d9dc229d2921a40e899ec5f  1            1.0          1.14              3.79             0.2\n",
       "2           644474c3d41185fa4c4f427095954f06  20191017  d2ac32e14d651b9ed03f26f845a11597  f0478c7f392532b5b9843e144a31cb78  14:35:26  16b4bff70d409ddb77c8107a528cf94b  7215ee9c7d9dc229d2921a40e899ec5f  8            1.0          85.18             198.18           10.61\n",
       "3           644474c3d41185fa4c4f427095954f06  20191017  d2ac32e14d651b9ed03f26f845a11597  f0478c7f392532b5b9843e144a31cb78  14:35:26  b0fc4f923bae05bf1276315a8efae07c  7215ee9c7d9dc229d2921a40e899ec5f  3            1.0          29.17             99.99            5.3\n",
       "4           644474c3d41185fa4c4f427095954f06  20191017  d2ac32e14d651b9ed03f26f845a11597  f0478c7f392532b5b9843e144a31cb78  14:35:26  f0c13fc65a011d296e01626c0c2649d0  e0ceb21aca7b78a5ea6418b0c28e9c95  5            1.476        157.66            174.79           58.26\n",
       "...         ...                               ...       ...                               ...                               ...       ...                               ...                               ...          ...          ...               ...              ...\n",
       "21,701,352  70067d1dce4f981c6985e15b9aa72a8a  20201114  087c8abfaee44ebbf0c2871976a2ab18  fc87375a3b44f61d077e63bce5e4790a  11:43:56  12919109e871ab98e3bf57ff71f1bc5b  fff5050c55970cb6ae38750cc947a33e  13           1.0          58.05             79.99            30.6\n",
       "21,701,353  70067d1dce4f981c6985e15b9aa72a8a  20201114  087c8abfaee44ebbf0c2871976a2ab18  fc87375a3b44f61d077e63bce5e4790a  11:43:56  34b2b0706163451a09a18a71998231ff  369d0d5afe646c011f39484143c7a679  17           1.0          18.02             38.99            7.4\n",
       "21,701,354  70067d1dce4f981c6985e15b9aa72a8a  20201114  087c8abfaee44ebbf0c2871976a2ab18  fc87375a3b44f61d077e63bce5e4790a  11:43:56  52db5409c318639598c084ff02b90c18  4f4400004707a9cd38b9c0964d4f6f2b  9            1.0          77.36             119.98           27.41\n",
       "21,701,355  70067d1dce4f981c6985e15b9aa72a8a  20201114  087c8abfaee44ebbf0c2871976a2ab18  21ef842bba62869663333693a5f7980c  13:09:19  103e025e3ab812402ee283cfa924348d  6561c4625123c9ca405837b753931345  6            2.0          13.42             0.02             103.16\n",
       "21,701,356  70067d1dce4f981c6985e15b9aa72a8a  20201114  087c8abfaee44ebbf0c2871976a2ab18  fc87375a3b44f61d077e63bce5e4790a  11:43:56  ab326ebb8d117f0ed55b50c630dabe83  064e879bcee8e3fc177b5564fa9cec77  19           1.0          30.86             34.99            34.5"
      ]
     },
     "execution_count": 38,
     "metadata": {},
     "output_type": "execute_result"
    }
   ],
   "source": [
    "train_raw.drop(\"region_name\", inplace=True)\n",
    "test_raw.drop(\"region_name\", inplace=True)"
   ]
  },
  {
   "cell_type": "code",
   "execution_count": 16,
   "id": "3c96188d-5aa4-4714-983b-4f554842ae0a",
   "metadata": {},
   "outputs": [],
   "source": [
    "sku = pd.read_csv(\"sku.csv\")\n",
    "shop_id = pd.read_csv(\"shop_id.csv\")"
   ]
  },
  {
   "cell_type": "code",
   "execution_count": 21,
   "id": "d23750e2-a4b4-4fdf-8d1d-da4800107c45",
   "metadata": {
    "tags": []
   },
   "outputs": [
    {
     "data": {
      "text/plain": [
       "(123372, 60)"
      ]
     },
     "execution_count": 21,
     "metadata": {},
     "output_type": "execute_result"
    }
   ],
   "source": [
    "sku = sku.set_index('index').to_dict()['sku']\n",
    "shop_id = shop_id.set_index('index').to_dict()['shop_id']\n",
    "len(sku), len(shop_id)"
   ]
  },
  {
   "cell_type": "code",
   "execution_count": 155,
   "id": "c3468c53-a9e0-42b9-8482-9995e6ddf847",
   "metadata": {},
   "outputs": [
    {
     "data": {
      "text/plain": [
       "(123372, 60)"
      ]
     },
     "execution_count": 155,
     "metadata": {},
     "output_type": "execute_result"
    }
   ],
   "source": [
    "len(sku), len(shop_id)"
   ]
  },
  {
   "cell_type": "markdown",
   "id": "da3ae728-e1dd-41d1-9ff0-f42868400b3c",
   "metadata": {},
   "source": [
    "### Train"
   ]
  },
  {
   "cell_type": "code",
   "execution_count": 41,
   "id": "b6579973-63eb-4a7a-9474-e6551b87f7cd",
   "metadata": {},
   "outputs": [],
   "source": [
    "#there are 29 skus that are in train but not hierarchy\n",
    "missing_skus = ['93c7dea84a6b49e2f557a8465c9b10ed', '90a77ce6cae10a339d8d9306e101bc07', '6fd67fb9a6ba0c9e20faa6ab38b43a2a', 'acd66272cf76f932b100b7beca02d18b', '79dd1221d5192b05f58634938bfb928f', '826f20f4d081f2acfe898b907f7e6fdd', \n",
    "                '2e8a9c5daae283dd41ac47592f597416', '605c01c65f46ebfc79a0471a06079416', 'f48b2e8c06c6871b247cce89743fd5d5', 'eb74ec52c66ad2860e9b577b1929486d', 'd6a26a60b780a76e3275b02436711700', 'ad1afc08c5f185aead8e10ab805ab3b6', \n",
    "                'e596ba3f40949c4b3b7016c4aa9bc028', '05a8c99850d38f831807bd360248be80', 'aef0cc340473c0bec62ef6ae03a6e023', '33fc9ba244f8c64c8387b761ba17ebec', '2dd11001ad097ea96cea414d3f5c8dbf', 'ae6d2c93c4142dc19da51472773423ce', '08091a25cb5fc46b2c9d1a28f5d37d25', 'df68cd0285b098963b50754ba01ddb1f', 'ff923ad4664a24019941ed2e74bb5d7f', '891990aad777e73fe474b806e0002628', '2ea0a95579880cc211f6d6c856f1dd2d', 'bd96f30e5ae2866088279e2fbfefa07a', 'dd2f316343913c91fb2b9d1df1a92471', 'd1adc5dd424576449e1930b5d0af11cc', '64d98a5947885795cd0775ea0f432e5b', '65033bec6580b363ccd4934de0f9582d', '57c8fa3a567c5c683be3057631618962']\n",
    "\n",
    "train_raw = train_raw[~train_raw['sku'].isin(missing_skus)]"
   ]
  },
  {
   "cell_type": "code",
   "execution_count": 42,
   "id": "3ee8bff6-a26d-49b9-b23c-016f0cd3c7f4",
   "metadata": {
    "tags": []
   },
   "outputs": [],
   "source": [
    "train_raw['shop_id'] = train_raw.shop_id.map(shop_id)\n",
    "train_raw['sku'] = train_raw.sku.map(sku)"
   ]
  },
  {
   "cell_type": "code",
   "execution_count": 43,
   "id": "a5511347-12de-4358-b6ae-b7e43c7da6e2",
   "metadata": {},
   "outputs": [
    {
     "data": {
      "text/html": [
       "<table>\n",
       "<thead>\n",
       "<tr><th>#                                     </th><th>day     </th><th>shop_id  </th><th>check_id                        </th><th>time    </th><th>sku   </th><th>promo_id                        </th><th>check_pos  </th><th>num_sales  </th><th>supplier_price  </th><th>selling_price  </th><th>discount  </th></tr>\n",
       "</thead>\n",
       "<tbody>\n",
       "<tr><td><i style='opacity: 0.6'>0</i>         </td><td>20191017</td><td>55       </td><td>f0478c7f392532b5b9843e144a31cb78</td><td>14:35:26</td><td>57189 </td><td>7215ee9c7d9dc229d2921a40e899ec5f</td><td>4          </td><td>1.0        </td><td>24.94           </td><td>48.09          </td><td>2.6       </td></tr>\n",
       "<tr><td><i style='opacity: 0.6'>1</i>         </td><td>20191017</td><td>55       </td><td>f0478c7f392532b5b9843e144a31cb78</td><td>14:35:26</td><td>79182 </td><td>7215ee9c7d9dc229d2921a40e899ec5f</td><td>1          </td><td>1.0        </td><td>1.14            </td><td>3.79           </td><td>0.2       </td></tr>\n",
       "<tr><td><i style='opacity: 0.6'>2</i>         </td><td>20191017</td><td>55       </td><td>f0478c7f392532b5b9843e144a31cb78</td><td>14:35:26</td><td>0     </td><td>7215ee9c7d9dc229d2921a40e899ec5f</td><td>8          </td><td>1.0        </td><td>85.18           </td><td>198.18         </td><td>10.61     </td></tr>\n",
       "<tr><td><i style='opacity: 0.6'>3</i>         </td><td>20191017</td><td>55       </td><td>f0478c7f392532b5b9843e144a31cb78</td><td>14:35:26</td><td>71883 </td><td>7215ee9c7d9dc229d2921a40e899ec5f</td><td>3          </td><td>1.0        </td><td>29.17           </td><td>99.99          </td><td>5.3       </td></tr>\n",
       "<tr><td><i style='opacity: 0.6'>4</i>         </td><td>20191017</td><td>55       </td><td>f0478c7f392532b5b9843e144a31cb78</td><td>14:35:26</td><td>26392 </td><td>e0ceb21aca7b78a5ea6418b0c28e9c95</td><td>5          </td><td>1.476      </td><td>157.66          </td><td>174.79         </td><td>58.26     </td></tr>\n",
       "<tr><td>...                                   </td><td>...     </td><td>...      </td><td>...                             </td><td>...     </td><td>...   </td><td>...                             </td><td>...        </td><td>...        </td><td>...             </td><td>...            </td><td>...       </td></tr>\n",
       "<tr><td><i style='opacity: 0.6'>21,692,955</i></td><td>20201114</td><td>16       </td><td>fc87375a3b44f61d077e63bce5e4790a</td><td>11:43:56</td><td>55    </td><td>fff5050c55970cb6ae38750cc947a33e</td><td>13         </td><td>1.0        </td><td>58.05           </td><td>79.99          </td><td>30.6      </td></tr>\n",
       "<tr><td><i style='opacity: 0.6'>21,692,956</i></td><td>20201114</td><td>16       </td><td>fc87375a3b44f61d077e63bce5e4790a</td><td>11:43:56</td><td>62011 </td><td>369d0d5afe646c011f39484143c7a679</td><td>17         </td><td>1.0        </td><td>18.02           </td><td>38.99          </td><td>7.4       </td></tr>\n",
       "<tr><td><i style='opacity: 0.6'>21,692,957</i></td><td>20201114</td><td>16       </td><td>fc87375a3b44f61d077e63bce5e4790a</td><td>11:43:56</td><td>118935</td><td>4f4400004707a9cd38b9c0964d4f6f2b</td><td>9          </td><td>1.0        </td><td>77.36           </td><td>119.98         </td><td>27.41     </td></tr>\n",
       "<tr><td><i style='opacity: 0.6'>21,692,958</i></td><td>20201114</td><td>16       </td><td>21ef842bba62869663333693a5f7980c</td><td>13:09:19</td><td>40297 </td><td>6561c4625123c9ca405837b753931345</td><td>6          </td><td>2.0        </td><td>13.42           </td><td>0.02           </td><td>103.16    </td></tr>\n",
       "<tr><td><i style='opacity: 0.6'>21,692,959</i></td><td>20201114</td><td>16       </td><td>fc87375a3b44f61d077e63bce5e4790a</td><td>11:43:56</td><td>70736 </td><td>064e879bcee8e3fc177b5564fa9cec77</td><td>19         </td><td>1.0        </td><td>30.86           </td><td>34.99          </td><td>34.5      </td></tr>\n",
       "</tbody>\n",
       "</table>"
      ],
      "text/plain": [
       "#           day       shop_id    check_id                          time      sku     promo_id                          check_pos    num_sales    supplier_price    selling_price    discount\n",
       "0           20191017  55         f0478c7f392532b5b9843e144a31cb78  14:35:26  57189   7215ee9c7d9dc229d2921a40e899ec5f  4            1.0          24.94             48.09            2.6\n",
       "1           20191017  55         f0478c7f392532b5b9843e144a31cb78  14:35:26  79182   7215ee9c7d9dc229d2921a40e899ec5f  1            1.0          1.14              3.79             0.2\n",
       "2           20191017  55         f0478c7f392532b5b9843e144a31cb78  14:35:26  0       7215ee9c7d9dc229d2921a40e899ec5f  8            1.0          85.18             198.18           10.61\n",
       "3           20191017  55         f0478c7f392532b5b9843e144a31cb78  14:35:26  71883   7215ee9c7d9dc229d2921a40e899ec5f  3            1.0          29.17             99.99            5.3\n",
       "4           20191017  55         f0478c7f392532b5b9843e144a31cb78  14:35:26  26392   e0ceb21aca7b78a5ea6418b0c28e9c95  5            1.476        157.66            174.79           58.26\n",
       "...         ...       ...        ...                               ...       ...     ...                               ...          ...          ...               ...              ...\n",
       "21,692,955  20201114  16         fc87375a3b44f61d077e63bce5e4790a  11:43:56  55      fff5050c55970cb6ae38750cc947a33e  13           1.0          58.05             79.99            30.6\n",
       "21,692,956  20201114  16         fc87375a3b44f61d077e63bce5e4790a  11:43:56  62011   369d0d5afe646c011f39484143c7a679  17           1.0          18.02             38.99            7.4\n",
       "21,692,957  20201114  16         fc87375a3b44f61d077e63bce5e4790a  11:43:56  118935  4f4400004707a9cd38b9c0964d4f6f2b  9            1.0          77.36             119.98           27.41\n",
       "21,692,958  20201114  16         21ef842bba62869663333693a5f7980c  13:09:19  40297   6561c4625123c9ca405837b753931345  6            2.0          13.42             0.02             103.16\n",
       "21,692,959  20201114  16         fc87375a3b44f61d077e63bce5e4790a  11:43:56  70736   064e879bcee8e3fc177b5564fa9cec77  19           1.0          30.86             34.99            34.5"
      ]
     },
     "execution_count": 43,
     "metadata": {},
     "output_type": "execute_result"
    }
   ],
   "source": [
    "train_raw.drop('client_id', inplace=True)"
   ]
  },
  {
   "cell_type": "code",
   "execution_count": 44,
   "id": "47e22b44-a8ea-4e7d-8447-2d8e5ebeec9e",
   "metadata": {},
   "outputs": [],
   "source": [
    "check_id_dict = dict(zip(train_raw.check_id.values, range(1, len(train_raw)+1)))\n",
    "check_id_dict_final = dict() \n",
    "for old_key in tqdm(check_id_dict.keys()):\n",
    "    new_key = str(old_key)\n",
    "    check_id_dict_final[new_key] = check_id_dict[old_key] \n",
    "\n",
    "train_raw['check_id'] = train_raw.check_id.map(check_id_dict_final)"
   ]
  },
  {
   "cell_type": "code",
   "execution_count": 186,
   "id": "4271511f-dd1d-40b1-801d-5ce55ba360a7",
   "metadata": {
    "collapsed": true,
    "jupyter": {
     "outputs_hidden": true
    },
    "tags": []
   },
   "outputs": [
    {
     "name": "stderr",
     "output_type": "stream",
     "text": [
      "100%|██████████| 275420/275420 [00:00<00:00, 1252906.91it/s]\n"
     ]
    }
   ],
   "source": [
    "promo_id = set(train_raw.promo_id.unique() + test_raw.promo_id.unique())\n",
    "promo_id_dict = dict(zip(promo_id, range(1, len(promo_id)+1)))\n",
    "promo_id_dict_final = dict() \n",
    "for old_key in tqdm(promo_id_dict.keys()):\n",
    "    new_key = str(old_key)\n",
    "    promo_id_dict_final[new_key] = promo_id_dict[old_key]\n",
    "promo_id = hash_dict_to_df(promo_id_dict_final, \"promo_id\")\n",
    "promo_id.to_csv(\"promo_id.csv\", index=None)    "
   ]
  },
  {
   "cell_type": "code",
   "execution_count": 84,
   "id": "8e0fd3db-c233-4564-b553-333ca791263b",
   "metadata": {},
   "outputs": [],
   "source": [
    "promo_id = pd.read_csv(\"promo_id.csv\")\n",
    "promo_id = promo_id.set_index('index').to_dict()['promo_id']"
   ]
  },
  {
   "cell_type": "code",
   "execution_count": 47,
   "id": "ab01bee8-0eab-4280-b70f-e9490db9e9cb",
   "metadata": {},
   "outputs": [],
   "source": [
    "train_raw['promo_id'] = train_raw.promo_id.map(promo_id)"
   ]
  },
  {
   "cell_type": "code",
   "execution_count": 52,
   "id": "8a8859be-5768-436c-a62c-5ca61048b78d",
   "metadata": {},
   "outputs": [],
   "source": [
    "train_raw.export_csv(\"train_preprocessed.csv\", index=False)"
   ]
  },
  {
   "cell_type": "code",
   "execution_count": 54,
   "id": "cde3df01-f8fd-4d1c-a173-e5dac85c2c3f",
   "metadata": {},
   "outputs": [
    {
     "data": {
      "text/html": [
       "<div>\n",
       "<style scoped>\n",
       "    .dataframe tbody tr th:only-of-type {\n",
       "        vertical-align: middle;\n",
       "    }\n",
       "\n",
       "    .dataframe tbody tr th {\n",
       "        vertical-align: top;\n",
       "    }\n",
       "\n",
       "    .dataframe thead th {\n",
       "        text-align: right;\n",
       "    }\n",
       "</style>\n",
       "<table border=\"1\" class=\"dataframe\">\n",
       "  <thead>\n",
       "    <tr style=\"text-align: right;\">\n",
       "      <th></th>\n",
       "      <th>day</th>\n",
       "      <th>shop_id</th>\n",
       "      <th>check_id</th>\n",
       "      <th>time</th>\n",
       "      <th>sku</th>\n",
       "      <th>promo_id</th>\n",
       "      <th>check_pos</th>\n",
       "      <th>num_sales</th>\n",
       "      <th>supplier_price</th>\n",
       "      <th>selling_price</th>\n",
       "      <th>discount</th>\n",
       "    </tr>\n",
       "  </thead>\n",
       "  <tbody>\n",
       "    <tr>\n",
       "      <th>0</th>\n",
       "      <td>20191017</td>\n",
       "      <td>55</td>\n",
       "      <td>20990487</td>\n",
       "      <td>14:35:26</td>\n",
       "      <td>57189</td>\n",
       "      <td>51588</td>\n",
       "      <td>4</td>\n",
       "      <td>1.000</td>\n",
       "      <td>24.94</td>\n",
       "      <td>48.09</td>\n",
       "      <td>2.60</td>\n",
       "    </tr>\n",
       "    <tr>\n",
       "      <th>1</th>\n",
       "      <td>20191017</td>\n",
       "      <td>55</td>\n",
       "      <td>20990487</td>\n",
       "      <td>14:35:26</td>\n",
       "      <td>79182</td>\n",
       "      <td>51588</td>\n",
       "      <td>1</td>\n",
       "      <td>1.000</td>\n",
       "      <td>1.14</td>\n",
       "      <td>3.79</td>\n",
       "      <td>0.20</td>\n",
       "    </tr>\n",
       "    <tr>\n",
       "      <th>2</th>\n",
       "      <td>20191017</td>\n",
       "      <td>55</td>\n",
       "      <td>20990487</td>\n",
       "      <td>14:35:26</td>\n",
       "      <td>0</td>\n",
       "      <td>51588</td>\n",
       "      <td>8</td>\n",
       "      <td>1.000</td>\n",
       "      <td>85.18</td>\n",
       "      <td>198.18</td>\n",
       "      <td>10.61</td>\n",
       "    </tr>\n",
       "    <tr>\n",
       "      <th>3</th>\n",
       "      <td>20191017</td>\n",
       "      <td>55</td>\n",
       "      <td>20990487</td>\n",
       "      <td>14:35:26</td>\n",
       "      <td>71883</td>\n",
       "      <td>51588</td>\n",
       "      <td>3</td>\n",
       "      <td>1.000</td>\n",
       "      <td>29.17</td>\n",
       "      <td>99.99</td>\n",
       "      <td>5.30</td>\n",
       "    </tr>\n",
       "    <tr>\n",
       "      <th>4</th>\n",
       "      <td>20191017</td>\n",
       "      <td>55</td>\n",
       "      <td>20990487</td>\n",
       "      <td>14:35:26</td>\n",
       "      <td>26392</td>\n",
       "      <td>171211</td>\n",
       "      <td>5</td>\n",
       "      <td>1.476</td>\n",
       "      <td>157.66</td>\n",
       "      <td>174.79</td>\n",
       "      <td>58.26</td>\n",
       "    </tr>\n",
       "  </tbody>\n",
       "</table>\n",
       "</div>"
      ],
      "text/plain": [
       "        day  shop_id  check_id      time    sku  promo_id  check_pos  \\\n",
       "0  20191017       55  20990487  14:35:26  57189     51588          4   \n",
       "1  20191017       55  20990487  14:35:26  79182     51588          1   \n",
       "2  20191017       55  20990487  14:35:26      0     51588          8   \n",
       "3  20191017       55  20990487  14:35:26  71883     51588          3   \n",
       "4  20191017       55  20990487  14:35:26  26392    171211          5   \n",
       "\n",
       "   num_sales  supplier_price  selling_price  discount  \n",
       "0      1.000           24.94          48.09      2.60  \n",
       "1      1.000            1.14           3.79      0.20  \n",
       "2      1.000           85.18         198.18     10.61  \n",
       "3      1.000           29.17          99.99      5.30  \n",
       "4      1.476          157.66         174.79     58.26  "
      ]
     },
     "execution_count": 54,
     "metadata": {},
     "output_type": "execute_result"
    }
   ],
   "source": [
    "train_raw = pd.read_csv(\"train_preprocessed.csv\")\n",
    "train_raw.head()"
   ]
  },
  {
   "cell_type": "code",
   "execution_count": 55,
   "id": "94171571-1140-4894-b6d5-0f59bd8604d4",
   "metadata": {},
   "outputs": [],
   "source": [
    "train_raw[\"day\"] = pd.to_datetime(train_raw[\"day\"], format=\"%Y%m%d\")"
   ]
  },
  {
   "cell_type": "code",
   "execution_count": 62,
   "id": "6bb05ca9-1dd6-430c-894c-240d1e8029cf",
   "metadata": {},
   "outputs": [],
   "source": [
    "train_raw.to_csv(\"train_preprocessed.csv\", index=False)"
   ]
  },
  {
   "cell_type": "markdown",
   "id": "1cda98cf-0160-4cfe-b5e5-ee3216297eeb",
   "metadata": {},
   "source": [
    "### Test"
   ]
  },
  {
   "cell_type": "code",
   "execution_count": 63,
   "id": "614ce403-0d2b-4bbd-908e-3d64c022ccd6",
   "metadata": {
    "tags": []
   },
   "outputs": [
    {
     "data": {
      "text/html": [
       "<table>\n",
       "<thead>\n",
       "<tr><th>#                                    </th><th>day     </th><th>shop_id                         </th><th>check_id                        </th><th>time    </th><th>sku                             </th><th>promo_id                        </th><th>supplier_price  </th><th>selling_price  </th><th>discount  </th></tr>\n",
       "</thead>\n",
       "<tbody>\n",
       "<tr><td><i style='opacity: 0.6'>0</i>        </td><td>20211025</td><td>6cb9669ff7bbb140212081ccb0f68543</td><td>e3bfbc5ed0cc52ebb6a8354dd48134eb</td><td>22:25:37</td><td>a7f8f533c4f62b8220b6493fef3f5191</td><td>9afa17bdb2b819a7d795533045c9c2db</td><td>64.84           </td><td>86.26          </td><td>28.72     </td></tr>\n",
       "<tr><td><i style='opacity: 0.6'>1</i>        </td><td>20211025</td><td>6cb9669ff7bbb140212081ccb0f68543</td><td>d8fc54c24b01b8eec0bd790d38fcb3a2</td><td>21:25:01</td><td>1119d0da7586ec0862aa53521d6a2a62</td><td>7dc93b050e25b6990eb7131db59c3a8f</td><td>8.8             </td><td>0.0            </td><td>51.59     </td></tr>\n",
       "<tr><td><i style='opacity: 0.6'>2</i>        </td><td>20211025</td><td>6cb9669ff7bbb140212081ccb0f68543</td><td>d8fc54c24b01b8eec0bd790d38fcb3a2</td><td>21:25:01</td><td>ea88c10b723965c08ab2d54ef53786ac</td><td>19121bbfaa43e1f6d552bfe1212ee9a7</td><td>384.6           </td><td>599.0          </td><td>347.39    </td></tr>\n",
       "<tr><td><i style='opacity: 0.6'>3</i>        </td><td>20211025</td><td>6cb9669ff7bbb140212081ccb0f68543</td><td>e3bfbc5ed0cc52ebb6a8354dd48134eb</td><td>22:25:37</td><td>1cbaaeb2212bbbe9d458ca9b81d74db7</td><td>07ed162d36d637a07cf5205962b6b73a</td><td>28.68           </td><td>41.27          </td><td>23.95     </td></tr>\n",
       "<tr><td><i style='opacity: 0.6'>4</i>        </td><td>20211025</td><td>6cb9669ff7bbb140212081ccb0f68543</td><td>e3bfbc5ed0cc52ebb6a8354dd48134eb</td><td>22:25:37</td><td>b75147feae4cf8ec07fb5f2cef855def</td><td>7215ee9c7d9dc229d2921a40e899ec5f</td><td>1.47            </td><td>5.49           </td><td>0.3       </td></tr>\n",
       "<tr><td>...                                  </td><td>...     </td><td>...                             </td><td>...                             </td><td>...     </td><td>...                             </td><td>...                             </td><td>...             </td><td>...            </td><td>...       </td></tr>\n",
       "<tr><td><i style='opacity: 0.6'>2,666,212</i></td><td>20211023</td><td>785ee201dc63daae3aecb2c7cbae60d3</td><td>09705772612e2a100b5f07c0e57fc524</td><td>10:52:58</td><td>09ff501c00a9d8b7188a8828075d5737</td><td>7215ee9c7d9dc229d2921a40e899ec5f</td><td>688.37          </td><td>986.45         </td><td>51.92     </td></tr>\n",
       "<tr><td><i style='opacity: 0.6'>2,666,213</i></td><td>20211023</td><td>785ee201dc63daae3aecb2c7cbae60d3</td><td>09705772612e2a100b5f07c0e57fc524</td><td>10:52:58</td><td>49d6407eda8665d69f32a107f854435b</td><td>025d07e5e7225e0dc6ffd79220a4d199</td><td>85.83           </td><td>99.99          </td><td>109.5     </td></tr>\n",
       "<tr><td><i style='opacity: 0.6'>2,666,214</i></td><td>20211023</td><td>785ee201dc63daae3aecb2c7cbae60d3</td><td>09705772612e2a100b5f07c0e57fc524</td><td>10:52:58</td><td>39f9df15e644860e4a1744e41ce7a6ec</td><td>7215ee9c7d9dc229d2921a40e899ec5f</td><td>7.78            </td><td>13.5           </td><td>0.72      </td></tr>\n",
       "<tr><td><i style='opacity: 0.6'>2,666,215</i></td><td>20211023</td><td>785ee201dc63daae3aecb2c7cbae60d3</td><td>09705772612e2a100b5f07c0e57fc524</td><td>10:52:58</td><td>1119d0da7586ec0862aa53521d6a2a62</td><td>7dc93b050e25b6990eb7131db59c3a8f</td><td>8.8             </td><td>0.0            </td><td>51.59     </td></tr>\n",
       "<tr><td><i style='opacity: 0.6'>2,666,216</i></td><td>20211023</td><td>785ee201dc63daae3aecb2c7cbae60d3</td><td>09705772612e2a100b5f07c0e57fc524</td><td>10:52:58</td><td>6eed8269bffd95dd9bae9484a374e5cb</td><td>dd6a2fed95fb48abed2149f1ef9c12b9</td><td>104.56          </td><td>199.0          </td><td>115.79    </td></tr>\n",
       "</tbody>\n",
       "</table>"
      ],
      "text/plain": [
       "#          day       shop_id                           check_id                          time      sku                               promo_id                          supplier_price    selling_price    discount\n",
       "0          20211025  6cb9669ff7bbb140212081ccb0f68543  e3bfbc5ed0cc52ebb6a8354dd48134eb  22:25:37  a7f8f533c4f62b8220b6493fef3f5191  9afa17bdb2b819a7d795533045c9c2db  64.84             86.26            28.72\n",
       "1          20211025  6cb9669ff7bbb140212081ccb0f68543  d8fc54c24b01b8eec0bd790d38fcb3a2  21:25:01  1119d0da7586ec0862aa53521d6a2a62  7dc93b050e25b6990eb7131db59c3a8f  8.8               0.0              51.59\n",
       "2          20211025  6cb9669ff7bbb140212081ccb0f68543  d8fc54c24b01b8eec0bd790d38fcb3a2  21:25:01  ea88c10b723965c08ab2d54ef53786ac  19121bbfaa43e1f6d552bfe1212ee9a7  384.6             599.0            347.39\n",
       "3          20211025  6cb9669ff7bbb140212081ccb0f68543  e3bfbc5ed0cc52ebb6a8354dd48134eb  22:25:37  1cbaaeb2212bbbe9d458ca9b81d74db7  07ed162d36d637a07cf5205962b6b73a  28.68             41.27            23.95\n",
       "4          20211025  6cb9669ff7bbb140212081ccb0f68543  e3bfbc5ed0cc52ebb6a8354dd48134eb  22:25:37  b75147feae4cf8ec07fb5f2cef855def  7215ee9c7d9dc229d2921a40e899ec5f  1.47              5.49             0.3\n",
       "...        ...       ...                               ...                               ...       ...                               ...                               ...               ...              ...\n",
       "2,666,212  20211023  785ee201dc63daae3aecb2c7cbae60d3  09705772612e2a100b5f07c0e57fc524  10:52:58  09ff501c00a9d8b7188a8828075d5737  7215ee9c7d9dc229d2921a40e899ec5f  688.37            986.45           51.92\n",
       "2,666,213  20211023  785ee201dc63daae3aecb2c7cbae60d3  09705772612e2a100b5f07c0e57fc524  10:52:58  49d6407eda8665d69f32a107f854435b  025d07e5e7225e0dc6ffd79220a4d199  85.83             99.99            109.5\n",
       "2,666,214  20211023  785ee201dc63daae3aecb2c7cbae60d3  09705772612e2a100b5f07c0e57fc524  10:52:58  39f9df15e644860e4a1744e41ce7a6ec  7215ee9c7d9dc229d2921a40e899ec5f  7.78              13.5             0.72\n",
       "2,666,215  20211023  785ee201dc63daae3aecb2c7cbae60d3  09705772612e2a100b5f07c0e57fc524  10:52:58  1119d0da7586ec0862aa53521d6a2a62  7dc93b050e25b6990eb7131db59c3a8f  8.8               0.0              51.59\n",
       "2,666,216  20211023  785ee201dc63daae3aecb2c7cbae60d3  09705772612e2a100b5f07c0e57fc524  10:52:58  6eed8269bffd95dd9bae9484a374e5cb  dd6a2fed95fb48abed2149f1ef9c12b9  104.56            199.0            115.79"
      ]
     },
     "execution_count": 63,
     "metadata": {},
     "output_type": "execute_result"
    }
   ],
   "source": [
    "test_raw.drop(\"client_id\", inplace=True)"
   ]
  },
  {
   "cell_type": "code",
   "execution_count": 66,
   "id": "5f45a434-6600-45fa-a192-d917e77a9c52",
   "metadata": {},
   "outputs": [],
   "source": [
    "#there are skus that are in test but not hierarchy\n",
    "missing_skus = ['df68cd0285b098963b50754ba01ddb1f', 'ad1afc08c5f185aead8e10ab805ab3b6', 'f48b2e8c06c6871b247cce89743fd5d5', '605c01c65f46ebfc79a0471a06079416', '65033bec6580b363ccd4934de0f9582d']\n",
    "test_raw = test_raw[~test_raw['sku'].isin(missing_skus)]\n"
   ]
  },
  {
   "cell_type": "code",
   "execution_count": 85,
   "id": "ebbdee06-83d1-4c5d-ad76-c6a0ad7652cc",
   "metadata": {
    "tags": []
   },
   "outputs": [],
   "source": [
    "test_raw['shop_id'] = test_raw.shop_id.map(shop_id)\n",
    "test_raw['sku'] = test_raw.sku.map(sku)\n",
    "test_raw['promo_id'] = test_raw.promo_id.map(promo_id)"
   ]
  },
  {
   "cell_type": "code",
   "execution_count": 87,
   "id": "3e1d65c3-48db-49e7-a0a1-d530664b2395",
   "metadata": {},
   "outputs": [
    {
     "name": "stderr",
     "output_type": "stream",
     "text": [
      "100%|██████████| 254155/254155 [00:00<00:00, 746029.70it/s]\n"
     ]
    }
   ],
   "source": [
    "check_id_dict = dict(zip(test_raw.check_id.values, range(1, len(test_raw)+1)))\n",
    "check_id_dict_final = dict() \n",
    "for old_key in tqdm(check_id_dict.keys()):\n",
    "    new_key = str(old_key)\n",
    "    check_id_dict_final[new_key] = check_id_dict[old_key] \n",
    "\n",
    "test_raw['check_id'] = test_raw.check_id.map(check_id_dict_final)"
   ]
  },
  {
   "cell_type": "code",
   "execution_count": 90,
   "id": "df956c18-d31a-4a60-944e-488b5a697478",
   "metadata": {},
   "outputs": [],
   "source": [
    "test_raw.export_csv(\"test_preprocessed.csv\")"
   ]
  },
  {
   "cell_type": "code",
   "execution_count": 91,
   "id": "0966b82a-f7e2-4214-92ec-6bcf9218638d",
   "metadata": {
    "collapsed": true,
    "jupyter": {
     "outputs_hidden": true
    },
    "tags": []
   },
   "outputs": [
    {
     "data": {
      "text/html": [
       "<div>\n",
       "<style scoped>\n",
       "    .dataframe tbody tr th:only-of-type {\n",
       "        vertical-align: middle;\n",
       "    }\n",
       "\n",
       "    .dataframe tbody tr th {\n",
       "        vertical-align: top;\n",
       "    }\n",
       "\n",
       "    .dataframe thead th {\n",
       "        text-align: right;\n",
       "    }\n",
       "</style>\n",
       "<table border=\"1\" class=\"dataframe\">\n",
       "  <thead>\n",
       "    <tr style=\"text-align: right;\">\n",
       "      <th></th>\n",
       "      <th>day</th>\n",
       "      <th>shop_id</th>\n",
       "      <th>check_id</th>\n",
       "      <th>time</th>\n",
       "      <th>sku</th>\n",
       "      <th>promo_id</th>\n",
       "      <th>supplier_price</th>\n",
       "      <th>selling_price</th>\n",
       "      <th>discount</th>\n",
       "    </tr>\n",
       "  </thead>\n",
       "  <tbody>\n",
       "    <tr>\n",
       "      <th>0</th>\n",
       "      <td>20211025</td>\n",
       "      <td>23</td>\n",
       "      <td>10</td>\n",
       "      <td>22:25:37</td>\n",
       "      <td>114519</td>\n",
       "      <td>300187</td>\n",
       "      <td>64.84</td>\n",
       "      <td>86.26</td>\n",
       "      <td>28.72</td>\n",
       "    </tr>\n",
       "    <tr>\n",
       "      <th>1</th>\n",
       "      <td>20211025</td>\n",
       "      <td>23</td>\n",
       "      <td>11</td>\n",
       "      <td>21:25:01</td>\n",
       "      <td>4405</td>\n",
       "      <td>285514</td>\n",
       "      <td>8.80</td>\n",
       "      <td>0.00</td>\n",
       "      <td>51.59</td>\n",
       "    </tr>\n",
       "    <tr>\n",
       "      <th>2</th>\n",
       "      <td>20211025</td>\n",
       "      <td>23</td>\n",
       "      <td>11</td>\n",
       "      <td>21:25:01</td>\n",
       "      <td>99020</td>\n",
       "      <td>296267</td>\n",
       "      <td>384.60</td>\n",
       "      <td>599.00</td>\n",
       "      <td>347.39</td>\n",
       "    </tr>\n",
       "    <tr>\n",
       "      <th>3</th>\n",
       "      <td>20211025</td>\n",
       "      <td>23</td>\n",
       "      <td>10</td>\n",
       "      <td>22:25:37</td>\n",
       "      <td>88039</td>\n",
       "      <td>299802</td>\n",
       "      <td>28.68</td>\n",
       "      <td>41.27</td>\n",
       "      <td>23.95</td>\n",
       "    </tr>\n",
       "    <tr>\n",
       "      <th>4</th>\n",
       "      <td>20211025</td>\n",
       "      <td>23</td>\n",
       "      <td>10</td>\n",
       "      <td>22:25:37</td>\n",
       "      <td>79182</td>\n",
       "      <td>51588</td>\n",
       "      <td>1.47</td>\n",
       "      <td>5.49</td>\n",
       "      <td>0.30</td>\n",
       "    </tr>\n",
       "    <tr>\n",
       "      <th>...</th>\n",
       "      <td>...</td>\n",
       "      <td>...</td>\n",
       "      <td>...</td>\n",
       "      <td>...</td>\n",
       "      <td>...</td>\n",
       "      <td>...</td>\n",
       "      <td>...</td>\n",
       "      <td>...</td>\n",
       "      <td>...</td>\n",
       "    </tr>\n",
       "    <tr>\n",
       "      <th>2666079</th>\n",
       "      <td>20211023</td>\n",
       "      <td>42</td>\n",
       "      <td>2666084</td>\n",
       "      <td>10:52:58</td>\n",
       "      <td>70</td>\n",
       "      <td>51588</td>\n",
       "      <td>688.37</td>\n",
       "      <td>986.45</td>\n",
       "      <td>51.92</td>\n",
       "    </tr>\n",
       "    <tr>\n",
       "      <th>2666080</th>\n",
       "      <td>20211023</td>\n",
       "      <td>42</td>\n",
       "      <td>2666084</td>\n",
       "      <td>10:52:58</td>\n",
       "      <td>94981</td>\n",
       "      <td>286290</td>\n",
       "      <td>85.83</td>\n",
       "      <td>99.99</td>\n",
       "      <td>109.50</td>\n",
       "    </tr>\n",
       "    <tr>\n",
       "      <th>2666081</th>\n",
       "      <td>20211023</td>\n",
       "      <td>42</td>\n",
       "      <td>2666084</td>\n",
       "      <td>10:52:58</td>\n",
       "      <td>96905</td>\n",
       "      <td>51588</td>\n",
       "      <td>7.78</td>\n",
       "      <td>13.50</td>\n",
       "      <td>0.72</td>\n",
       "    </tr>\n",
       "    <tr>\n",
       "      <th>2666082</th>\n",
       "      <td>20211023</td>\n",
       "      <td>42</td>\n",
       "      <td>2666084</td>\n",
       "      <td>10:52:58</td>\n",
       "      <td>4405</td>\n",
       "      <td>285514</td>\n",
       "      <td>8.80</td>\n",
       "      <td>0.00</td>\n",
       "      <td>51.59</td>\n",
       "    </tr>\n",
       "    <tr>\n",
       "      <th>2666083</th>\n",
       "      <td>20211023</td>\n",
       "      <td>42</td>\n",
       "      <td>2666084</td>\n",
       "      <td>10:52:58</td>\n",
       "      <td>64628</td>\n",
       "      <td>282232</td>\n",
       "      <td>104.56</td>\n",
       "      <td>199.00</td>\n",
       "      <td>115.79</td>\n",
       "    </tr>\n",
       "  </tbody>\n",
       "</table>\n",
       "<p>2666084 rows × 9 columns</p>\n",
       "</div>"
      ],
      "text/plain": [
       "              day  shop_id  check_id      time     sku  promo_id  \\\n",
       "0        20211025       23        10  22:25:37  114519    300187   \n",
       "1        20211025       23        11  21:25:01    4405    285514   \n",
       "2        20211025       23        11  21:25:01   99020    296267   \n",
       "3        20211025       23        10  22:25:37   88039    299802   \n",
       "4        20211025       23        10  22:25:37   79182     51588   \n",
       "...           ...      ...       ...       ...     ...       ...   \n",
       "2666079  20211023       42   2666084  10:52:58      70     51588   \n",
       "2666080  20211023       42   2666084  10:52:58   94981    286290   \n",
       "2666081  20211023       42   2666084  10:52:58   96905     51588   \n",
       "2666082  20211023       42   2666084  10:52:58    4405    285514   \n",
       "2666083  20211023       42   2666084  10:52:58   64628    282232   \n",
       "\n",
       "         supplier_price  selling_price  discount  \n",
       "0                 64.84          86.26     28.72  \n",
       "1                  8.80           0.00     51.59  \n",
       "2                384.60         599.00    347.39  \n",
       "3                 28.68          41.27     23.95  \n",
       "4                  1.47           5.49      0.30  \n",
       "...                 ...            ...       ...  \n",
       "2666079          688.37         986.45     51.92  \n",
       "2666080           85.83          99.99    109.50  \n",
       "2666081            7.78          13.50      0.72  \n",
       "2666082            8.80           0.00     51.59  \n",
       "2666083          104.56         199.00    115.79  \n",
       "\n",
       "[2666084 rows x 9 columns]"
      ]
     },
     "execution_count": 91,
     "metadata": {},
     "output_type": "execute_result"
    }
   ],
   "source": [
    "test_raw = pd.read_csv(\"test_preprocessed.csv\")\n",
    "test_raw"
   ]
  },
  {
   "cell_type": "code",
   "execution_count": 92,
   "id": "bed2f672-b05c-496e-a658-ee2fc2a53e37",
   "metadata": {},
   "outputs": [],
   "source": [
    "test_raw[\"day\"] = pd.to_datetime(test_raw[\"day\"], format=\"%Y%m%d\")"
   ]
  },
  {
   "cell_type": "code",
   "execution_count": 94,
   "id": "5535d464-a767-4857-b7f1-8f562762cb49",
   "metadata": {},
   "outputs": [],
   "source": [
    "test_raw.to_csv(\"test_preprocessed.csv\", index=False)"
   ]
  },
  {
   "cell_type": "code",
   "execution_count": 100,
   "id": "0064d714-a0d4-4a5b-bec1-a0c603f00843",
   "metadata": {},
   "outputs": [],
   "source": [
    "del check_id_dict\n",
    "del check_id_dict_final"
   ]
  },
  {
   "cell_type": "markdown",
   "id": "c834922c-3ed8-4013-abe0-086ce9ba28ad",
   "metadata": {},
   "source": [
    "## Merging additionl tables"
   ]
  },
  {
   "cell_type": "code",
   "execution_count": 9,
   "id": "9113da1d-2124-4c6c-b013-db1e1b5f11ee",
   "metadata": {},
   "outputs": [],
   "source": [
    "train = pd.read_csv(\"train_preprocessed.csv\")"
   ]
  },
  {
   "cell_type": "code",
   "execution_count": 10,
   "id": "a872a1d7-5f94-4cc4-84f5-6b1c851a57f9",
   "metadata": {},
   "outputs": [],
   "source": [
    "sku = pd.read_csv(\"sku.csv\")\n",
    "shop_id = pd.read_csv(\"shop_id.csv\")"
   ]
  },
  {
   "cell_type": "code",
   "execution_count": 13,
   "id": "6c417394-9eb9-4d5f-8402-04bfdbfaa782",
   "metadata": {},
   "outputs": [],
   "source": [
    "sku = sku.set_index('index').to_dict()['sku']\n",
    "shop_id = shop_id.set_index('index').to_dict()['shop_id']"
   ]
  },
  {
   "cell_type": "code",
   "execution_count": 14,
   "id": "893749e7-0584-4571-97e8-edef40f233ff",
   "metadata": {},
   "outputs": [],
   "source": [
    "hierarchy['sku'] = hierarchy.sku.map(sku)"
   ]
  },
  {
   "cell_type": "code",
   "execution_count": 15,
   "id": "de92f068-ff39-4ded-a3d2-5f00ba1d153f",
   "metadata": {},
   "outputs": [
    {
     "data": {
      "text/html": [
       "<div>\n",
       "<style scoped>\n",
       "    .dataframe tbody tr th:only-of-type {\n",
       "        vertical-align: middle;\n",
       "    }\n",
       "\n",
       "    .dataframe tbody tr th {\n",
       "        vertical-align: top;\n",
       "    }\n",
       "\n",
       "    .dataframe thead th {\n",
       "        text-align: right;\n",
       "    }\n",
       "</style>\n",
       "<table border=\"1\" class=\"dataframe\">\n",
       "  <thead>\n",
       "    <tr style=\"text-align: right;\">\n",
       "      <th></th>\n",
       "      <th>sku</th>\n",
       "      <th>class</th>\n",
       "      <th>group</th>\n",
       "      <th>category</th>\n",
       "      <th>subcategory</th>\n",
       "    </tr>\n",
       "  </thead>\n",
       "  <tbody>\n",
       "    <tr>\n",
       "      <th>0</th>\n",
       "      <td>0</td>\n",
       "      <td>c4ca4238a0b923820dcc509a6f75849b</td>\n",
       "      <td>c4ca4238a0b923820dcc509a6f75849b</td>\n",
       "      <td>7fcc48d22804dbbe9b66b607d51389d4</td>\n",
       "      <td>7b82e428cf5bdd7671ab0f1fa285a767</td>\n",
       "    </tr>\n",
       "    <tr>\n",
       "      <th>1</th>\n",
       "      <td>1</td>\n",
       "      <td>c4ca4238a0b923820dcc509a6f75849b</td>\n",
       "      <td>c4ca4238a0b923820dcc509a6f75849b</td>\n",
       "      <td>2a3d6d6cc4b5e77238c1fc1bb6cdd681</td>\n",
       "      <td>ec972afde3cb8ff3e84ab57ffe32f8e4</td>\n",
       "    </tr>\n",
       "    <tr>\n",
       "      <th>2</th>\n",
       "      <td>2</td>\n",
       "      <td>c81e728d9d4c2f636f067f89cc14862c</td>\n",
       "      <td>e4da3b7fbbce2345d7772b0674a318d5</td>\n",
       "      <td>19485224d128528da1602ca47383f078</td>\n",
       "      <td>34e14de7a374ed14185fa8e81a5ebb1f</td>\n",
       "    </tr>\n",
       "    <tr>\n",
       "      <th>3</th>\n",
       "      <td>3</td>\n",
       "      <td>c81e728d9d4c2f636f067f89cc14862c</td>\n",
       "      <td>e4da3b7fbbce2345d7772b0674a318d5</td>\n",
       "      <td>7bec7e63a493e2d61891b1e4051ef75a</td>\n",
       "      <td>556ef5548b49b2fa22f88a921feae370</td>\n",
       "    </tr>\n",
       "    <tr>\n",
       "      <th>4</th>\n",
       "      <td>4</td>\n",
       "      <td>c4ca4238a0b923820dcc509a6f75849b</td>\n",
       "      <td>c81e728d9d4c2f636f067f89cc14862c</td>\n",
       "      <td>f18a6d1cde4b205199de8729a6637b42</td>\n",
       "      <td>c4b022af0f3248bfc492f5b582d81ae8</td>\n",
       "    </tr>\n",
       "    <tr>\n",
       "      <th>...</th>\n",
       "      <td>...</td>\n",
       "      <td>...</td>\n",
       "      <td>...</td>\n",
       "      <td>...</td>\n",
       "      <td>...</td>\n",
       "    </tr>\n",
       "    <tr>\n",
       "      <th>123367</th>\n",
       "      <td>123367</td>\n",
       "      <td>c81e728d9d4c2f636f067f89cc14862c</td>\n",
       "      <td>e4da3b7fbbce2345d7772b0674a318d5</td>\n",
       "      <td>b7046757c3682a28c5bf2024e57678a0</td>\n",
       "      <td>797ac7c94950128f8bc1e86d9e60fc86</td>\n",
       "    </tr>\n",
       "    <tr>\n",
       "      <th>123368</th>\n",
       "      <td>123368</td>\n",
       "      <td>c81e728d9d4c2f636f067f89cc14862c</td>\n",
       "      <td>e4da3b7fbbce2345d7772b0674a318d5</td>\n",
       "      <td>84e8ce7870f0eecd843366582bb95a28</td>\n",
       "      <td>7b597af3514068781199e045f7d38d14</td>\n",
       "    </tr>\n",
       "    <tr>\n",
       "      <th>123369</th>\n",
       "      <td>123369</td>\n",
       "      <td>c4ca4238a0b923820dcc509a6f75849b</td>\n",
       "      <td>c4ca4238a0b923820dcc509a6f75849b</td>\n",
       "      <td>c5d9256689c43036581f781c61f26e50</td>\n",
       "      <td>bb82609bac8abe255217a273127fc117</td>\n",
       "    </tr>\n",
       "    <tr>\n",
       "      <th>123370</th>\n",
       "      <td>123370</td>\n",
       "      <td>c81e728d9d4c2f636f067f89cc14862c</td>\n",
       "      <td>e4da3b7fbbce2345d7772b0674a318d5</td>\n",
       "      <td>94130ea17023c4837f0dcdda95034b65</td>\n",
       "      <td>576f0dfb3b67052b824172b4fda0695c</td>\n",
       "    </tr>\n",
       "    <tr>\n",
       "      <th>123371</th>\n",
       "      <td>123371</td>\n",
       "      <td>c81e728d9d4c2f636f067f89cc14862c</td>\n",
       "      <td>e4da3b7fbbce2345d7772b0674a318d5</td>\n",
       "      <td>9b91d245c953f54a7f10aba72a4d0022</td>\n",
       "      <td>115751b6ba1f1d92c01bcb5c55de6cf7</td>\n",
       "    </tr>\n",
       "  </tbody>\n",
       "</table>\n",
       "<p>123372 rows × 5 columns</p>\n",
       "</div>"
      ],
      "text/plain": [
       "           sku                             class  \\\n",
       "0            0  c4ca4238a0b923820dcc509a6f75849b   \n",
       "1            1  c4ca4238a0b923820dcc509a6f75849b   \n",
       "2            2  c81e728d9d4c2f636f067f89cc14862c   \n",
       "3            3  c81e728d9d4c2f636f067f89cc14862c   \n",
       "4            4  c4ca4238a0b923820dcc509a6f75849b   \n",
       "...        ...                               ...   \n",
       "123367  123367  c81e728d9d4c2f636f067f89cc14862c   \n",
       "123368  123368  c81e728d9d4c2f636f067f89cc14862c   \n",
       "123369  123369  c4ca4238a0b923820dcc509a6f75849b   \n",
       "123370  123370  c81e728d9d4c2f636f067f89cc14862c   \n",
       "123371  123371  c81e728d9d4c2f636f067f89cc14862c   \n",
       "\n",
       "                                   group                          category  \\\n",
       "0       c4ca4238a0b923820dcc509a6f75849b  7fcc48d22804dbbe9b66b607d51389d4   \n",
       "1       c4ca4238a0b923820dcc509a6f75849b  2a3d6d6cc4b5e77238c1fc1bb6cdd681   \n",
       "2       e4da3b7fbbce2345d7772b0674a318d5  19485224d128528da1602ca47383f078   \n",
       "3       e4da3b7fbbce2345d7772b0674a318d5  7bec7e63a493e2d61891b1e4051ef75a   \n",
       "4       c81e728d9d4c2f636f067f89cc14862c  f18a6d1cde4b205199de8729a6637b42   \n",
       "...                                  ...                               ...   \n",
       "123367  e4da3b7fbbce2345d7772b0674a318d5  b7046757c3682a28c5bf2024e57678a0   \n",
       "123368  e4da3b7fbbce2345d7772b0674a318d5  84e8ce7870f0eecd843366582bb95a28   \n",
       "123369  c4ca4238a0b923820dcc509a6f75849b  c5d9256689c43036581f781c61f26e50   \n",
       "123370  e4da3b7fbbce2345d7772b0674a318d5  94130ea17023c4837f0dcdda95034b65   \n",
       "123371  e4da3b7fbbce2345d7772b0674a318d5  9b91d245c953f54a7f10aba72a4d0022   \n",
       "\n",
       "                             subcategory  \n",
       "0       7b82e428cf5bdd7671ab0f1fa285a767  \n",
       "1       ec972afde3cb8ff3e84ab57ffe32f8e4  \n",
       "2       34e14de7a374ed14185fa8e81a5ebb1f  \n",
       "3       556ef5548b49b2fa22f88a921feae370  \n",
       "4       c4b022af0f3248bfc492f5b582d81ae8  \n",
       "...                                  ...  \n",
       "123367  797ac7c94950128f8bc1e86d9e60fc86  \n",
       "123368  7b597af3514068781199e045f7d38d14  \n",
       "123369  bb82609bac8abe255217a273127fc117  \n",
       "123370  576f0dfb3b67052b824172b4fda0695c  \n",
       "123371  115751b6ba1f1d92c01bcb5c55de6cf7  \n",
       "\n",
       "[123372 rows x 5 columns]"
      ]
     },
     "execution_count": 15,
     "metadata": {},
     "output_type": "execute_result"
    }
   ],
   "source": [
    "hierarchy"
   ]
  },
  {
   "cell_type": "code",
   "execution_count": 17,
   "id": "1da93baa-1841-42c9-b740-877408529445",
   "metadata": {},
   "outputs": [],
   "source": [
    "class_dict = dict(zip(hierarchy['class'].values, range(len(hierarchy))))\n",
    "_class = hash_dict_to_df(class_dict, \"class\")\n",
    "_class.to_csv(\"hierarchy_class.csv\", index=None)"
   ]
  },
  {
   "cell_type": "code",
   "execution_count": 18,
   "id": "f879a0fa-d50f-4e02-b14e-e3f1576238ae",
   "metadata": {},
   "outputs": [
    {
     "data": {
      "text/plain": [
       "2"
      ]
     },
     "execution_count": 18,
     "metadata": {},
     "output_type": "execute_result"
    }
   ],
   "source": [
    "hierarchy['class'].nunique()"
   ]
  },
  {
   "cell_type": "code",
   "execution_count": 19,
   "id": "2b22543d-5c9e-4f21-abd1-5e4a1244c1a3",
   "metadata": {
    "tags": []
   },
   "outputs": [
    {
     "data": {
      "text/html": [
       "<div>\n",
       "<style scoped>\n",
       "    .dataframe tbody tr th:only-of-type {\n",
       "        vertical-align: middle;\n",
       "    }\n",
       "\n",
       "    .dataframe tbody tr th {\n",
       "        vertical-align: top;\n",
       "    }\n",
       "\n",
       "    .dataframe thead th {\n",
       "        text-align: right;\n",
       "    }\n",
       "</style>\n",
       "<table border=\"1\" class=\"dataframe\">\n",
       "  <thead>\n",
       "    <tr style=\"text-align: right;\">\n",
       "      <th></th>\n",
       "      <th>index</th>\n",
       "      <th>class</th>\n",
       "    </tr>\n",
       "  </thead>\n",
       "  <tbody>\n",
       "    <tr>\n",
       "      <th>0</th>\n",
       "      <td>c4ca4238a0b923820dcc509a6f75849b</td>\n",
       "      <td>123369</td>\n",
       "    </tr>\n",
       "    <tr>\n",
       "      <th>1</th>\n",
       "      <td>c81e728d9d4c2f636f067f89cc14862c</td>\n",
       "      <td>123371</td>\n",
       "    </tr>\n",
       "  </tbody>\n",
       "</table>\n",
       "</div>"
      ],
      "text/plain": [
       "                              index   class\n",
       "0  c4ca4238a0b923820dcc509a6f75849b  123369\n",
       "1  c81e728d9d4c2f636f067f89cc14862c  123371"
      ]
     },
     "execution_count": 19,
     "metadata": {},
     "output_type": "execute_result"
    }
   ],
   "source": [
    "_class"
   ]
  },
  {
   "cell_type": "code",
   "execution_count": 20,
   "id": "737e9da4-c9f3-4006-85b3-df247da1cda0",
   "metadata": {},
   "outputs": [],
   "source": [
    "group_dict = dict(zip(hierarchy['group'].values, range(len(hierarchy))))\n",
    "_group = hash_dict_to_df(group_dict, \"group\")\n",
    "_group.to_csv(\"hierarchy_group.csv\", index=None)"
   ]
  },
  {
   "cell_type": "code",
   "execution_count": 25,
   "id": "8ef35218-6736-4a4a-b670-b8f09577b514",
   "metadata": {},
   "outputs": [
    {
     "data": {
      "text/plain": [
       "5"
      ]
     },
     "execution_count": 25,
     "metadata": {},
     "output_type": "execute_result"
    }
   ],
   "source": [
    "hierarchy['group'].nunique()"
   ]
  },
  {
   "cell_type": "code",
   "execution_count": 21,
   "id": "30b0f92b-56e1-49a4-b9ba-b4207a46fd2c",
   "metadata": {
    "tags": []
   },
   "outputs": [
    {
     "data": {
      "text/html": [
       "<div>\n",
       "<style scoped>\n",
       "    .dataframe tbody tr th:only-of-type {\n",
       "        vertical-align: middle;\n",
       "    }\n",
       "\n",
       "    .dataframe tbody tr th {\n",
       "        vertical-align: top;\n",
       "    }\n",
       "\n",
       "    .dataframe thead th {\n",
       "        text-align: right;\n",
       "    }\n",
       "</style>\n",
       "<table border=\"1\" class=\"dataframe\">\n",
       "  <thead>\n",
       "    <tr style=\"text-align: right;\">\n",
       "      <th></th>\n",
       "      <th>index</th>\n",
       "      <th>group</th>\n",
       "    </tr>\n",
       "  </thead>\n",
       "  <tbody>\n",
       "    <tr>\n",
       "      <th>0</th>\n",
       "      <td>c4ca4238a0b923820dcc509a6f75849b</td>\n",
       "      <td>123369</td>\n",
       "    </tr>\n",
       "    <tr>\n",
       "      <th>1</th>\n",
       "      <td>e4da3b7fbbce2345d7772b0674a318d5</td>\n",
       "      <td>123371</td>\n",
       "    </tr>\n",
       "    <tr>\n",
       "      <th>2</th>\n",
       "      <td>c81e728d9d4c2f636f067f89cc14862c</td>\n",
       "      <td>123366</td>\n",
       "    </tr>\n",
       "    <tr>\n",
       "      <th>3</th>\n",
       "      <td>eccbc87e4b5ce2fe28308fd9f2a7baf3</td>\n",
       "      <td>123300</td>\n",
       "    </tr>\n",
       "    <tr>\n",
       "      <th>4</th>\n",
       "      <td>1679091c5a880faf6fb5e6087eb1b2dc</td>\n",
       "      <td>122493</td>\n",
       "    </tr>\n",
       "  </tbody>\n",
       "</table>\n",
       "</div>"
      ],
      "text/plain": [
       "                              index   group\n",
       "0  c4ca4238a0b923820dcc509a6f75849b  123369\n",
       "1  e4da3b7fbbce2345d7772b0674a318d5  123371\n",
       "2  c81e728d9d4c2f636f067f89cc14862c  123366\n",
       "3  eccbc87e4b5ce2fe28308fd9f2a7baf3  123300\n",
       "4  1679091c5a880faf6fb5e6087eb1b2dc  122493"
      ]
     },
     "execution_count": 21,
     "metadata": {},
     "output_type": "execute_result"
    }
   ],
   "source": [
    "_group"
   ]
  },
  {
   "cell_type": "code",
   "execution_count": 22,
   "id": "67e56e12-f8be-4e59-bd21-09c43ec74d5a",
   "metadata": {},
   "outputs": [],
   "source": [
    "category_dict = dict(zip(hierarchy['category'].values, range(len(hierarchy))))\n",
    "_category = hash_dict_to_df(category_dict, \"category\")\n",
    "_category.to_csv(\"hierarchy_category.csv\", index=None)"
   ]
  },
  {
   "cell_type": "code",
   "execution_count": 23,
   "id": "7d13acee-6288-4597-a5d1-7c25afde478f",
   "metadata": {
    "tags": []
   },
   "outputs": [
    {
     "data": {
      "text/html": [
       "<div>\n",
       "<style scoped>\n",
       "    .dataframe tbody tr th:only-of-type {\n",
       "        vertical-align: middle;\n",
       "    }\n",
       "\n",
       "    .dataframe tbody tr th {\n",
       "        vertical-align: top;\n",
       "    }\n",
       "\n",
       "    .dataframe thead th {\n",
       "        text-align: right;\n",
       "    }\n",
       "</style>\n",
       "<table border=\"1\" class=\"dataframe\">\n",
       "  <thead>\n",
       "    <tr style=\"text-align: right;\">\n",
       "      <th></th>\n",
       "      <th>index</th>\n",
       "      <th>category</th>\n",
       "    </tr>\n",
       "  </thead>\n",
       "  <tbody>\n",
       "    <tr>\n",
       "      <th>0</th>\n",
       "      <td>7fcc48d22804dbbe9b66b607d51389d4</td>\n",
       "      <td>122673</td>\n",
       "    </tr>\n",
       "    <tr>\n",
       "      <th>1</th>\n",
       "      <td>2a3d6d6cc4b5e77238c1fc1bb6cdd681</td>\n",
       "      <td>122608</td>\n",
       "    </tr>\n",
       "    <tr>\n",
       "      <th>2</th>\n",
       "      <td>19485224d128528da1602ca47383f078</td>\n",
       "      <td>122367</td>\n",
       "    </tr>\n",
       "    <tr>\n",
       "      <th>3</th>\n",
       "      <td>7bec7e63a493e2d61891b1e4051ef75a</td>\n",
       "      <td>123315</td>\n",
       "    </tr>\n",
       "    <tr>\n",
       "      <th>4</th>\n",
       "      <td>f18a6d1cde4b205199de8729a6637b42</td>\n",
       "      <td>121283</td>\n",
       "    </tr>\n",
       "    <tr>\n",
       "      <th>...</th>\n",
       "      <td>...</td>\n",
       "      <td>...</td>\n",
       "    </tr>\n",
       "    <tr>\n",
       "      <th>399</th>\n",
       "      <td>a591024321c5e2bdbd23ed35f0574dde</td>\n",
       "      <td>102649</td>\n",
       "    </tr>\n",
       "    <tr>\n",
       "      <th>400</th>\n",
       "      <td>569ff987c643b4bedf504efda8f786c2</td>\n",
       "      <td>112495</td>\n",
       "    </tr>\n",
       "    <tr>\n",
       "      <th>401</th>\n",
       "      <td>14f2ebeab937ca128186e7ba876faef9</td>\n",
       "      <td>113664</td>\n",
       "    </tr>\n",
       "    <tr>\n",
       "      <th>402</th>\n",
       "      <td>c850c535b6b72487b20cee5d7434506d</td>\n",
       "      <td>78155</td>\n",
       "    </tr>\n",
       "    <tr>\n",
       "      <th>403</th>\n",
       "      <td>e661551c8ec9308379cda7e2419348e5</td>\n",
       "      <td>117285</td>\n",
       "    </tr>\n",
       "  </tbody>\n",
       "</table>\n",
       "<p>404 rows × 2 columns</p>\n",
       "</div>"
      ],
      "text/plain": [
       "                                index  category\n",
       "0    7fcc48d22804dbbe9b66b607d51389d4    122673\n",
       "1    2a3d6d6cc4b5e77238c1fc1bb6cdd681    122608\n",
       "2    19485224d128528da1602ca47383f078    122367\n",
       "3    7bec7e63a493e2d61891b1e4051ef75a    123315\n",
       "4    f18a6d1cde4b205199de8729a6637b42    121283\n",
       "..                                ...       ...\n",
       "399  a591024321c5e2bdbd23ed35f0574dde    102649\n",
       "400  569ff987c643b4bedf504efda8f786c2    112495\n",
       "401  14f2ebeab937ca128186e7ba876faef9    113664\n",
       "402  c850c535b6b72487b20cee5d7434506d     78155\n",
       "403  e661551c8ec9308379cda7e2419348e5    117285\n",
       "\n",
       "[404 rows x 2 columns]"
      ]
     },
     "execution_count": 23,
     "metadata": {},
     "output_type": "execute_result"
    }
   ],
   "source": [
    "_category"
   ]
  },
  {
   "cell_type": "code",
   "execution_count": 26,
   "id": "9a8da049-b73e-4b58-a4aa-b4d226b66c57",
   "metadata": {},
   "outputs": [
    {
     "data": {
      "text/plain": [
       "404"
      ]
     },
     "execution_count": 26,
     "metadata": {},
     "output_type": "execute_result"
    }
   ],
   "source": [
    "hierarchy['category'].nunique()"
   ]
  },
  {
   "cell_type": "code",
   "execution_count": 28,
   "id": "d235f976-6023-4b39-8f78-68af43a4ba84",
   "metadata": {},
   "outputs": [],
   "source": [
    "subcategory_dict = dict(zip(hierarchy['subcategory'].values, range(len(hierarchy))))\n",
    "_subcategory = hash_dict_to_df(subcategory_dict, \"subcategory\")\n",
    "_subcategory.to_csv(\"hierarchy_subcategory.csv\", index=None)"
   ]
  },
  {
   "cell_type": "code",
   "execution_count": 29,
   "id": "a5f6973a-a1ac-4d1a-872a-1134308631cd",
   "metadata": {},
   "outputs": [
    {
     "data": {
      "text/plain": [
       "2120"
      ]
     },
     "execution_count": 29,
     "metadata": {},
     "output_type": "execute_result"
    }
   ],
   "source": [
    "hierarchy['subcategory'].nunique()"
   ]
  },
  {
   "cell_type": "code",
   "execution_count": 30,
   "id": "5d2a2d97-3401-4d74-957a-97311d3ee925",
   "metadata": {
    "tags": []
   },
   "outputs": [
    {
     "data": {
      "text/html": [
       "<div>\n",
       "<style scoped>\n",
       "    .dataframe tbody tr th:only-of-type {\n",
       "        vertical-align: middle;\n",
       "    }\n",
       "\n",
       "    .dataframe tbody tr th {\n",
       "        vertical-align: top;\n",
       "    }\n",
       "\n",
       "    .dataframe thead th {\n",
       "        text-align: right;\n",
       "    }\n",
       "</style>\n",
       "<table border=\"1\" class=\"dataframe\">\n",
       "  <thead>\n",
       "    <tr style=\"text-align: right;\">\n",
       "      <th></th>\n",
       "      <th>index</th>\n",
       "      <th>subcategory</th>\n",
       "    </tr>\n",
       "  </thead>\n",
       "  <tbody>\n",
       "    <tr>\n",
       "      <th>0</th>\n",
       "      <td>7b82e428cf5bdd7671ab0f1fa285a767</td>\n",
       "      <td>121845</td>\n",
       "    </tr>\n",
       "    <tr>\n",
       "      <th>1</th>\n",
       "      <td>ec972afde3cb8ff3e84ab57ffe32f8e4</td>\n",
       "      <td>122432</td>\n",
       "    </tr>\n",
       "    <tr>\n",
       "      <th>2</th>\n",
       "      <td>34e14de7a374ed14185fa8e81a5ebb1f</td>\n",
       "      <td>102400</td>\n",
       "    </tr>\n",
       "    <tr>\n",
       "      <th>3</th>\n",
       "      <td>556ef5548b49b2fa22f88a921feae370</td>\n",
       "      <td>115368</td>\n",
       "    </tr>\n",
       "    <tr>\n",
       "      <th>4</th>\n",
       "      <td>c4b022af0f3248bfc492f5b582d81ae8</td>\n",
       "      <td>121283</td>\n",
       "    </tr>\n",
       "    <tr>\n",
       "      <th>...</th>\n",
       "      <td>...</td>\n",
       "      <td>...</td>\n",
       "    </tr>\n",
       "    <tr>\n",
       "      <th>2115</th>\n",
       "      <td>c5053a380841ebc55d8a0e9f64ef1dd0</td>\n",
       "      <td>107857</td>\n",
       "    </tr>\n",
       "    <tr>\n",
       "      <th>2116</th>\n",
       "      <td>81beb8ec9b9d371ce870a11f98fd6e5f</td>\n",
       "      <td>108129</td>\n",
       "    </tr>\n",
       "    <tr>\n",
       "      <th>2117</th>\n",
       "      <td>e5f24ee05ff3e224b1487bbdaf704eb2</td>\n",
       "      <td>110014</td>\n",
       "    </tr>\n",
       "    <tr>\n",
       "      <th>2118</th>\n",
       "      <td>f699a8a5dcb86ae1165eea7150e36f7a</td>\n",
       "      <td>113511</td>\n",
       "    </tr>\n",
       "    <tr>\n",
       "      <th>2119</th>\n",
       "      <td>9d025fd630aa7562d216c71ab08ef672</td>\n",
       "      <td>122764</td>\n",
       "    </tr>\n",
       "  </tbody>\n",
       "</table>\n",
       "<p>2120 rows × 2 columns</p>\n",
       "</div>"
      ],
      "text/plain": [
       "                                 index  subcategory\n",
       "0     7b82e428cf5bdd7671ab0f1fa285a767       121845\n",
       "1     ec972afde3cb8ff3e84ab57ffe32f8e4       122432\n",
       "2     34e14de7a374ed14185fa8e81a5ebb1f       102400\n",
       "3     556ef5548b49b2fa22f88a921feae370       115368\n",
       "4     c4b022af0f3248bfc492f5b582d81ae8       121283\n",
       "...                                ...          ...\n",
       "2115  c5053a380841ebc55d8a0e9f64ef1dd0       107857\n",
       "2116  81beb8ec9b9d371ce870a11f98fd6e5f       108129\n",
       "2117  e5f24ee05ff3e224b1487bbdaf704eb2       110014\n",
       "2118  f699a8a5dcb86ae1165eea7150e36f7a       113511\n",
       "2119  9d025fd630aa7562d216c71ab08ef672       122764\n",
       "\n",
       "[2120 rows x 2 columns]"
      ]
     },
     "execution_count": 30,
     "metadata": {},
     "output_type": "execute_result"
    }
   ],
   "source": [
    "_subcategory"
   ]
  },
  {
   "cell_type": "code",
   "execution_count": 31,
   "id": "466325df-01fe-4662-abdf-f02e9a3171e5",
   "metadata": {},
   "outputs": [],
   "source": [
    "hierarchy['class'] = hierarchy[\"class\"].map(class_dict)\n",
    "hierarchy['group'] = hierarchy[\"group\"].map(group_dict)\n",
    "hierarchy['category'] = hierarchy[\"category\"].map(category_dict)\n",
    "hierarchy['subcategory'] = hierarchy[\"subcategory\"].map(subcategory_dict)"
   ]
  },
  {
   "cell_type": "code",
   "execution_count": 32,
   "id": "e7dabed4-f801-46f9-8cda-ea1c48e81479",
   "metadata": {},
   "outputs": [
    {
     "data": {
      "text/plain": [
       "sku            0\n",
       "class          0\n",
       "group          0\n",
       "category       0\n",
       "subcategory    0\n",
       "dtype: int64"
      ]
     },
     "execution_count": 32,
     "metadata": {},
     "output_type": "execute_result"
    }
   ],
   "source": [
    "hierarchy.isna().sum()"
   ]
  },
  {
   "cell_type": "code",
   "execution_count": 33,
   "id": "aea42ae9-8475-4835-9299-d70a045913ae",
   "metadata": {},
   "outputs": [],
   "source": [
    "hierarchy.to_csv(\"hierarchy_preprocessed.csv\", index=False)"
   ]
  },
  {
   "cell_type": "code",
   "execution_count": 35,
   "id": "e3278099-eb56-44c7-b96d-ee38c0216a0c",
   "metadata": {},
   "outputs": [
    {
     "data": {
      "text/plain": [
       "(21692960, 11)"
      ]
     },
     "execution_count": 35,
     "metadata": {},
     "output_type": "execute_result"
    }
   ],
   "source": [
    "train.shape"
   ]
  },
  {
   "cell_type": "code",
   "execution_count": 36,
   "id": "47c33540-8726-4acc-915d-8d417830cc54",
   "metadata": {},
   "outputs": [],
   "source": [
    "train = train.merge(hierarchy, on='sku', how='left')"
   ]
  },
  {
   "cell_type": "code",
   "execution_count": 37,
   "id": "5e8958d0-9d45-47ff-82b4-5efc7616bdb2",
   "metadata": {},
   "outputs": [
    {
     "data": {
      "text/html": [
       "<div>\n",
       "<style scoped>\n",
       "    .dataframe tbody tr th:only-of-type {\n",
       "        vertical-align: middle;\n",
       "    }\n",
       "\n",
       "    .dataframe tbody tr th {\n",
       "        vertical-align: top;\n",
       "    }\n",
       "\n",
       "    .dataframe thead th {\n",
       "        text-align: right;\n",
       "    }\n",
       "</style>\n",
       "<table border=\"1\" class=\"dataframe\">\n",
       "  <thead>\n",
       "    <tr style=\"text-align: right;\">\n",
       "      <th></th>\n",
       "      <th>day</th>\n",
       "      <th>shop_id</th>\n",
       "      <th>check_id</th>\n",
       "      <th>time</th>\n",
       "      <th>sku</th>\n",
       "      <th>promo_id</th>\n",
       "      <th>check_pos</th>\n",
       "      <th>num_sales</th>\n",
       "      <th>supplier_price</th>\n",
       "      <th>selling_price</th>\n",
       "      <th>discount</th>\n",
       "      <th>class</th>\n",
       "      <th>group</th>\n",
       "      <th>category</th>\n",
       "      <th>subcategory</th>\n",
       "    </tr>\n",
       "  </thead>\n",
       "  <tbody>\n",
       "    <tr>\n",
       "      <th>0</th>\n",
       "      <td>2019-10-17</td>\n",
       "      <td>55</td>\n",
       "      <td>20990487</td>\n",
       "      <td>14:35:26</td>\n",
       "      <td>57189</td>\n",
       "      <td>51588</td>\n",
       "      <td>4</td>\n",
       "      <td>1.000</td>\n",
       "      <td>24.94</td>\n",
       "      <td>48.09</td>\n",
       "      <td>2.60</td>\n",
       "      <td>123369</td>\n",
       "      <td>123366</td>\n",
       "      <td>123242</td>\n",
       "      <td>119582</td>\n",
       "    </tr>\n",
       "    <tr>\n",
       "      <th>1</th>\n",
       "      <td>2019-10-17</td>\n",
       "      <td>55</td>\n",
       "      <td>20990487</td>\n",
       "      <td>14:35:26</td>\n",
       "      <td>79182</td>\n",
       "      <td>51588</td>\n",
       "      <td>1</td>\n",
       "      <td>1.000</td>\n",
       "      <td>1.14</td>\n",
       "      <td>3.79</td>\n",
       "      <td>0.20</td>\n",
       "      <td>123371</td>\n",
       "      <td>123371</td>\n",
       "      <td>110793</td>\n",
       "      <td>79182</td>\n",
       "    </tr>\n",
       "    <tr>\n",
       "      <th>2</th>\n",
       "      <td>2019-10-17</td>\n",
       "      <td>55</td>\n",
       "      <td>20990487</td>\n",
       "      <td>14:35:26</td>\n",
       "      <td>0</td>\n",
       "      <td>51588</td>\n",
       "      <td>8</td>\n",
       "      <td>1.000</td>\n",
       "      <td>85.18</td>\n",
       "      <td>198.18</td>\n",
       "      <td>10.61</td>\n",
       "      <td>123369</td>\n",
       "      <td>123369</td>\n",
       "      <td>122673</td>\n",
       "      <td>121845</td>\n",
       "    </tr>\n",
       "    <tr>\n",
       "      <th>3</th>\n",
       "      <td>2019-10-17</td>\n",
       "      <td>55</td>\n",
       "      <td>20990487</td>\n",
       "      <td>14:35:26</td>\n",
       "      <td>71883</td>\n",
       "      <td>51588</td>\n",
       "      <td>3</td>\n",
       "      <td>1.000</td>\n",
       "      <td>29.17</td>\n",
       "      <td>99.99</td>\n",
       "      <td>5.30</td>\n",
       "      <td>123371</td>\n",
       "      <td>123371</td>\n",
       "      <td>123367</td>\n",
       "      <td>123367</td>\n",
       "    </tr>\n",
       "    <tr>\n",
       "      <th>4</th>\n",
       "      <td>2019-10-17</td>\n",
       "      <td>55</td>\n",
       "      <td>20990487</td>\n",
       "      <td>14:35:26</td>\n",
       "      <td>26392</td>\n",
       "      <td>171211</td>\n",
       "      <td>5</td>\n",
       "      <td>1.476</td>\n",
       "      <td>157.66</td>\n",
       "      <td>174.79</td>\n",
       "      <td>58.26</td>\n",
       "      <td>123369</td>\n",
       "      <td>123366</td>\n",
       "      <td>122680</td>\n",
       "      <td>121031</td>\n",
       "    </tr>\n",
       "  </tbody>\n",
       "</table>\n",
       "</div>"
      ],
      "text/plain": [
       "          day  shop_id  check_id      time    sku  promo_id  check_pos  \\\n",
       "0  2019-10-17       55  20990487  14:35:26  57189     51588          4   \n",
       "1  2019-10-17       55  20990487  14:35:26  79182     51588          1   \n",
       "2  2019-10-17       55  20990487  14:35:26      0     51588          8   \n",
       "3  2019-10-17       55  20990487  14:35:26  71883     51588          3   \n",
       "4  2019-10-17       55  20990487  14:35:26  26392    171211          5   \n",
       "\n",
       "   num_sales  supplier_price  selling_price  discount   class   group  \\\n",
       "0      1.000           24.94          48.09      2.60  123369  123366   \n",
       "1      1.000            1.14           3.79      0.20  123371  123371   \n",
       "2      1.000           85.18         198.18     10.61  123369  123369   \n",
       "3      1.000           29.17          99.99      5.30  123371  123371   \n",
       "4      1.476          157.66         174.79     58.26  123369  123366   \n",
       "\n",
       "   category  subcategory  \n",
       "0    123242       119582  \n",
       "1    110793        79182  \n",
       "2    122673       121845  \n",
       "3    123367       123367  \n",
       "4    122680       121031  "
      ]
     },
     "execution_count": 37,
     "metadata": {},
     "output_type": "execute_result"
    }
   ],
   "source": [
    "train.head()"
   ]
  },
  {
   "cell_type": "code",
   "execution_count": 38,
   "id": "4b8e9c14-c257-4e65-9eba-0fc12b19a22c",
   "metadata": {},
   "outputs": [
    {
     "data": {
      "text/plain": [
       "day               0\n",
       "shop_id           0\n",
       "check_id          0\n",
       "time              0\n",
       "sku               0\n",
       "promo_id          0\n",
       "check_pos         0\n",
       "num_sales         0\n",
       "supplier_price    0\n",
       "selling_price     0\n",
       "discount          0\n",
       "class             0\n",
       "group             0\n",
       "category          0\n",
       "subcategory       0\n",
       "dtype: int64"
      ]
     },
     "execution_count": 38,
     "metadata": {},
     "output_type": "execute_result"
    }
   ],
   "source": [
    "train.isna().sum()"
   ]
  },
  {
   "cell_type": "code",
   "execution_count": 39,
   "id": "8f0218db-af86-4d8d-b01d-45ff5bcc19cd",
   "metadata": {},
   "outputs": [
    {
     "data": {
      "text/plain": [
       "division_id       0\n",
       "region_id         0\n",
       "city_id           0\n",
       "shop_id           0\n",
       "type_loc_id       0\n",
       "type_size_id      0\n",
       "type_format_id    0\n",
       "type_wealth_id    0\n",
       "is_store          0\n",
       "is_active         0\n",
       "is_ex_billa       0\n",
       "dtype: int64"
      ]
     },
     "execution_count": 39,
     "metadata": {},
     "output_type": "execute_result"
    }
   ],
   "source": [
    "shops.isna().sum()"
   ]
  },
  {
   "cell_type": "code",
   "execution_count": 40,
   "id": "dab507d4-6a0f-46ed-b411-72f72bda48ba",
   "metadata": {},
   "outputs": [],
   "source": [
    "shops[\"shop_id\"] = shops[\"shop_id\"].map(shop_id)"
   ]
  },
  {
   "cell_type": "code",
   "execution_count": 41,
   "id": "25547335-6565-4ba0-a2a8-dc485148ad36",
   "metadata": {},
   "outputs": [],
   "source": [
    "division_id_dict = dict(zip(shops['division_id'].values, range(len(shops['division_id']))))\n",
    "division_id = hash_dict_to_df(division_id_dict, \"division_id\")\n",
    "division_id.to_csv(\"shops_division_id.csv\", index=None)"
   ]
  },
  {
   "cell_type": "code",
   "execution_count": 42,
   "id": "4e07cab6-4219-4844-a4e4-c1f76394e2af",
   "metadata": {},
   "outputs": [
    {
     "data": {
      "text/plain": [
       "1"
      ]
     },
     "execution_count": 42,
     "metadata": {},
     "output_type": "execute_result"
    }
   ],
   "source": [
    "shops['division_id'].nunique()"
   ]
  },
  {
   "cell_type": "code",
   "execution_count": 43,
   "id": "3b928aee-5645-476c-87fc-e2af95e64800",
   "metadata": {},
   "outputs": [
    {
     "data": {
      "text/html": [
       "<div>\n",
       "<style scoped>\n",
       "    .dataframe tbody tr th:only-of-type {\n",
       "        vertical-align: middle;\n",
       "    }\n",
       "\n",
       "    .dataframe tbody tr th {\n",
       "        vertical-align: top;\n",
       "    }\n",
       "\n",
       "    .dataframe thead th {\n",
       "        text-align: right;\n",
       "    }\n",
       "</style>\n",
       "<table border=\"1\" class=\"dataframe\">\n",
       "  <thead>\n",
       "    <tr style=\"text-align: right;\">\n",
       "      <th></th>\n",
       "      <th>index</th>\n",
       "      <th>division_id</th>\n",
       "    </tr>\n",
       "  </thead>\n",
       "  <tbody>\n",
       "    <tr>\n",
       "      <th>0</th>\n",
       "      <td>e4da3b7fbbce2345d7772b0674a318d5</td>\n",
       "      <td>59</td>\n",
       "    </tr>\n",
       "  </tbody>\n",
       "</table>\n",
       "</div>"
      ],
      "text/plain": [
       "                              index  division_id\n",
       "0  e4da3b7fbbce2345d7772b0674a318d5           59"
      ]
     },
     "execution_count": 43,
     "metadata": {},
     "output_type": "execute_result"
    }
   ],
   "source": [
    "division_id"
   ]
  },
  {
   "cell_type": "code",
   "execution_count": 44,
   "id": "408a0266-2568-48ae-ba47-ae16116e0cdb",
   "metadata": {},
   "outputs": [],
   "source": [
    "region_id_dict = dict(zip(shops['region_id'].values, range(len(shops['division_id']))))\n",
    "region_id = hash_dict_to_df(region_id_dict, \"region_id\")\n",
    "region_id.to_csv(\"shops_region_id.csv\", index=None)"
   ]
  },
  {
   "cell_type": "code",
   "execution_count": 45,
   "id": "f0a52b2d-36e9-495f-9737-a863a500ea11",
   "metadata": {
    "tags": []
   },
   "outputs": [
    {
     "data": {
      "text/plain": [
       "18"
      ]
     },
     "execution_count": 45,
     "metadata": {},
     "output_type": "execute_result"
    }
   ],
   "source": [
    "shops['region_id'].nunique()"
   ]
  },
  {
   "cell_type": "code",
   "execution_count": 47,
   "id": "176a1e4e-88d0-471f-9845-074f7380493d",
   "metadata": {
    "collapsed": true,
    "jupyter": {
     "outputs_hidden": true
    },
    "tags": []
   },
   "outputs": [
    {
     "data": {
      "text/html": [
       "<div>\n",
       "<style scoped>\n",
       "    .dataframe tbody tr th:only-of-type {\n",
       "        vertical-align: middle;\n",
       "    }\n",
       "\n",
       "    .dataframe tbody tr th {\n",
       "        vertical-align: top;\n",
       "    }\n",
       "\n",
       "    .dataframe thead th {\n",
       "        text-align: right;\n",
       "    }\n",
       "</style>\n",
       "<table border=\"1\" class=\"dataframe\">\n",
       "  <thead>\n",
       "    <tr style=\"text-align: right;\">\n",
       "      <th></th>\n",
       "      <th>index</th>\n",
       "      <th>region_id</th>\n",
       "    </tr>\n",
       "  </thead>\n",
       "  <tbody>\n",
       "    <tr>\n",
       "      <th>0</th>\n",
       "      <td>c0c7c76d30bd3dcaefc96f40275bdc0a</td>\n",
       "      <td>57</td>\n",
       "    </tr>\n",
       "    <tr>\n",
       "      <th>1</th>\n",
       "      <td>28dd2c7955ce926456240b2ff0100bde</td>\n",
       "      <td>58</td>\n",
       "    </tr>\n",
       "    <tr>\n",
       "      <th>2</th>\n",
       "      <td>9a1158154dfa42caddbd0694a4e9bdc8</td>\n",
       "      <td>37</td>\n",
       "    </tr>\n",
       "    <tr>\n",
       "      <th>3</th>\n",
       "      <td>a5bfc9e07964f8dddeb95fc584cd965d</td>\n",
       "      <td>51</td>\n",
       "    </tr>\n",
       "    <tr>\n",
       "      <th>4</th>\n",
       "      <td>642e92efb79421734881b53e1e1b18b6</td>\n",
       "      <td>18</td>\n",
       "    </tr>\n",
       "    <tr>\n",
       "      <th>5</th>\n",
       "      <td>fbd7939d674997cdb4692d34de8633c4</td>\n",
       "      <td>56</td>\n",
       "    </tr>\n",
       "    <tr>\n",
       "      <th>6</th>\n",
       "      <td>d645920e395fedad7bbbed0eca3fe2e0</td>\n",
       "      <td>49</td>\n",
       "    </tr>\n",
       "    <tr>\n",
       "      <th>7</th>\n",
       "      <td>f7177163c833dff4b38fc8d2872f1ec6</td>\n",
       "      <td>22</td>\n",
       "    </tr>\n",
       "    <tr>\n",
       "      <th>8</th>\n",
       "      <td>d9d4f495e875a2e075a1a4a6e1b9770f</td>\n",
       "      <td>23</td>\n",
       "    </tr>\n",
       "    <tr>\n",
       "      <th>9</th>\n",
       "      <td>44f683a84163b3523afe57c2e008bc8c</td>\n",
       "      <td>59</td>\n",
       "    </tr>\n",
       "    <tr>\n",
       "      <th>10</th>\n",
       "      <td>19ca14e7ea6328a42e0eb13d585e4c22</td>\n",
       "      <td>52</td>\n",
       "    </tr>\n",
       "    <tr>\n",
       "      <th>11</th>\n",
       "      <td>c16a5320fa475530d9583c34fd356ef5</td>\n",
       "      <td>40</td>\n",
       "    </tr>\n",
       "    <tr>\n",
       "      <th>12</th>\n",
       "      <td>6364d3f0f495b6ab9dcf8d3b5c6e0b01</td>\n",
       "      <td>36</td>\n",
       "    </tr>\n",
       "    <tr>\n",
       "      <th>13</th>\n",
       "      <td>e2c420d928d4bf8ce0ff2ec19b371514</td>\n",
       "      <td>41</td>\n",
       "    </tr>\n",
       "    <tr>\n",
       "      <th>14</th>\n",
       "      <td>72b32a1f754ba1c09b3695e0cb6cde7f</td>\n",
       "      <td>43</td>\n",
       "    </tr>\n",
       "    <tr>\n",
       "      <th>15</th>\n",
       "      <td>735b90b4568125ed6c3f678819b6e058</td>\n",
       "      <td>45</td>\n",
       "    </tr>\n",
       "    <tr>\n",
       "      <th>16</th>\n",
       "      <td>14bfa6bb14875e45bba028a21ed38046</td>\n",
       "      <td>47</td>\n",
       "    </tr>\n",
       "    <tr>\n",
       "      <th>17</th>\n",
       "      <td>182be0c5cdcd5072bb1864cdee4d3d6e</td>\n",
       "      <td>48</td>\n",
       "    </tr>\n",
       "  </tbody>\n",
       "</table>\n",
       "</div>"
      ],
      "text/plain": [
       "                               index  region_id\n",
       "0   c0c7c76d30bd3dcaefc96f40275bdc0a         57\n",
       "1   28dd2c7955ce926456240b2ff0100bde         58\n",
       "2   9a1158154dfa42caddbd0694a4e9bdc8         37\n",
       "3   a5bfc9e07964f8dddeb95fc584cd965d         51\n",
       "4   642e92efb79421734881b53e1e1b18b6         18\n",
       "5   fbd7939d674997cdb4692d34de8633c4         56\n",
       "6   d645920e395fedad7bbbed0eca3fe2e0         49\n",
       "7   f7177163c833dff4b38fc8d2872f1ec6         22\n",
       "8   d9d4f495e875a2e075a1a4a6e1b9770f         23\n",
       "9   44f683a84163b3523afe57c2e008bc8c         59\n",
       "10  19ca14e7ea6328a42e0eb13d585e4c22         52\n",
       "11  c16a5320fa475530d9583c34fd356ef5         40\n",
       "12  6364d3f0f495b6ab9dcf8d3b5c6e0b01         36\n",
       "13  e2c420d928d4bf8ce0ff2ec19b371514         41\n",
       "14  72b32a1f754ba1c09b3695e0cb6cde7f         43\n",
       "15  735b90b4568125ed6c3f678819b6e058         45\n",
       "16  14bfa6bb14875e45bba028a21ed38046         47\n",
       "17  182be0c5cdcd5072bb1864cdee4d3d6e         48"
      ]
     },
     "execution_count": 47,
     "metadata": {},
     "output_type": "execute_result"
    }
   ],
   "source": [
    "region_id"
   ]
  },
  {
   "cell_type": "code",
   "execution_count": 48,
   "id": "7666c31f-ebdc-41c8-a514-44ff3594e7be",
   "metadata": {},
   "outputs": [],
   "source": [
    "city_id_dict = dict(zip(shops['city_id'].values, range(len(shops['division_id']))))\n",
    "city_id = hash_dict_to_df(city_id_dict, \"city_id\")\n",
    "city_id.to_csv(\"shops_city_id.csv\", index=None)"
   ]
  },
  {
   "cell_type": "code",
   "execution_count": 49,
   "id": "8041c81a-ee20-41da-bd67-281db55c65ec",
   "metadata": {
    "collapsed": true,
    "jupyter": {
     "outputs_hidden": true
    },
    "tags": []
   },
   "outputs": [
    {
     "data": {
      "text/html": [
       "<div>\n",
       "<style scoped>\n",
       "    .dataframe tbody tr th:only-of-type {\n",
       "        vertical-align: middle;\n",
       "    }\n",
       "\n",
       "    .dataframe tbody tr th {\n",
       "        vertical-align: top;\n",
       "    }\n",
       "\n",
       "    .dataframe thead th {\n",
       "        text-align: right;\n",
       "    }\n",
       "</style>\n",
       "<table border=\"1\" class=\"dataframe\">\n",
       "  <thead>\n",
       "    <tr style=\"text-align: right;\">\n",
       "      <th></th>\n",
       "      <th>index</th>\n",
       "      <th>city_id</th>\n",
       "    </tr>\n",
       "  </thead>\n",
       "  <tbody>\n",
       "    <tr>\n",
       "      <th>0</th>\n",
       "      <td>3806734b256c27e41ec2c6bffa26d9e7</td>\n",
       "      <td>0</td>\n",
       "    </tr>\n",
       "    <tr>\n",
       "      <th>1</th>\n",
       "      <td>1587965fb4d4b5afe8428a4a024feb0d</td>\n",
       "      <td>58</td>\n",
       "    </tr>\n",
       "    <tr>\n",
       "      <th>2</th>\n",
       "      <td>204904e461002b28511d5880e1c36a0f</td>\n",
       "      <td>37</td>\n",
       "    </tr>\n",
       "    <tr>\n",
       "      <th>3</th>\n",
       "      <td>0768281a05da9f27df178b5c39a51263</td>\n",
       "      <td>51</td>\n",
       "    </tr>\n",
       "    <tr>\n",
       "      <th>4</th>\n",
       "      <td>298923c8190045e91288b430794814c4</td>\n",
       "      <td>18</td>\n",
       "    </tr>\n",
       "    <tr>\n",
       "      <th>5</th>\n",
       "      <td>aa68c75c4a77c87f97fb686b2f068676</td>\n",
       "      <td>56</td>\n",
       "    </tr>\n",
       "    <tr>\n",
       "      <th>6</th>\n",
       "      <td>ce5140df15d046a66883807d18d0264b</td>\n",
       "      <td>49</td>\n",
       "    </tr>\n",
       "    <tr>\n",
       "      <th>7</th>\n",
       "      <td>021bbc7ee20b71134d53e20206bd6feb</td>\n",
       "      <td>22</td>\n",
       "    </tr>\n",
       "    <tr>\n",
       "      <th>8</th>\n",
       "      <td>08fe2621d8e716b02ec0da35256a998d</td>\n",
       "      <td>23</td>\n",
       "    </tr>\n",
       "    <tr>\n",
       "      <th>9</th>\n",
       "      <td>b8c37e33defde51cf91e1e03e51657da</td>\n",
       "      <td>59</td>\n",
       "    </tr>\n",
       "    <tr>\n",
       "      <th>10</th>\n",
       "      <td>fed33392d3a48aa149a87a38b875ba4a</td>\n",
       "      <td>52</td>\n",
       "    </tr>\n",
       "    <tr>\n",
       "      <th>11</th>\n",
       "      <td>bb4abc56ac2093f48c7c26980ec4a4c0</td>\n",
       "      <td>40</td>\n",
       "    </tr>\n",
       "    <tr>\n",
       "      <th>12</th>\n",
       "      <td>2387337ba1e0b0249ba90f55b2ba2521</td>\n",
       "      <td>36</td>\n",
       "    </tr>\n",
       "    <tr>\n",
       "      <th>13</th>\n",
       "      <td>9246444d94f081e3549803b928260f56</td>\n",
       "      <td>41</td>\n",
       "    </tr>\n",
       "    <tr>\n",
       "      <th>14</th>\n",
       "      <td>5d616dd38211ebb5d6ec52986674b6e4</td>\n",
       "      <td>43</td>\n",
       "    </tr>\n",
       "    <tr>\n",
       "      <th>15</th>\n",
       "      <td>1e48c4420b7073bc11916c6c1de226bb</td>\n",
       "      <td>45</td>\n",
       "    </tr>\n",
       "    <tr>\n",
       "      <th>16</th>\n",
       "      <td>fba9d88164f3e2d9109ee770223212a0</td>\n",
       "      <td>47</td>\n",
       "    </tr>\n",
       "    <tr>\n",
       "      <th>17</th>\n",
       "      <td>93d65641ff3f1586614cf2c1ad240b6c</td>\n",
       "      <td>48</td>\n",
       "    </tr>\n",
       "    <tr>\n",
       "      <th>18</th>\n",
       "      <td>24146db4eb48c718b84cae0a0799dcfc</td>\n",
       "      <td>57</td>\n",
       "    </tr>\n",
       "  </tbody>\n",
       "</table>\n",
       "</div>"
      ],
      "text/plain": [
       "                               index  city_id\n",
       "0   3806734b256c27e41ec2c6bffa26d9e7        0\n",
       "1   1587965fb4d4b5afe8428a4a024feb0d       58\n",
       "2   204904e461002b28511d5880e1c36a0f       37\n",
       "3   0768281a05da9f27df178b5c39a51263       51\n",
       "4   298923c8190045e91288b430794814c4       18\n",
       "5   aa68c75c4a77c87f97fb686b2f068676       56\n",
       "6   ce5140df15d046a66883807d18d0264b       49\n",
       "7   021bbc7ee20b71134d53e20206bd6feb       22\n",
       "8   08fe2621d8e716b02ec0da35256a998d       23\n",
       "9   b8c37e33defde51cf91e1e03e51657da       59\n",
       "10  fed33392d3a48aa149a87a38b875ba4a       52\n",
       "11  bb4abc56ac2093f48c7c26980ec4a4c0       40\n",
       "12  2387337ba1e0b0249ba90f55b2ba2521       36\n",
       "13  9246444d94f081e3549803b928260f56       41\n",
       "14  5d616dd38211ebb5d6ec52986674b6e4       43\n",
       "15  1e48c4420b7073bc11916c6c1de226bb       45\n",
       "16  fba9d88164f3e2d9109ee770223212a0       47\n",
       "17  93d65641ff3f1586614cf2c1ad240b6c       48\n",
       "18  24146db4eb48c718b84cae0a0799dcfc       57"
      ]
     },
     "execution_count": 49,
     "metadata": {},
     "output_type": "execute_result"
    }
   ],
   "source": [
    "city_id"
   ]
  },
  {
   "cell_type": "code",
   "execution_count": 50,
   "id": "d44e12bb-6c66-4990-b54e-5fc76c37a28b",
   "metadata": {},
   "outputs": [],
   "source": [
    "shops[\"division_id\"] = shops[\"division_id\"].map(division_id_dict)\n",
    "shops[\"region_id\"] = shops[\"region_id\"].map(region_id_dict)\n",
    "shops[\"city_id\"] = shops[\"city_id\"].map(city_id_dict)"
   ]
  },
  {
   "cell_type": "code",
   "execution_count": 51,
   "id": "fc6d1e7d-84fc-4d4f-aba4-e9cfc4cb5b2c",
   "metadata": {},
   "outputs": [
    {
     "data": {
      "text/plain": [
       "division_id       0\n",
       "region_id         0\n",
       "city_id           0\n",
       "shop_id           0\n",
       "type_loc_id       0\n",
       "type_size_id      0\n",
       "type_format_id    0\n",
       "type_wealth_id    0\n",
       "is_store          0\n",
       "is_active         0\n",
       "is_ex_billa       0\n",
       "dtype: int64"
      ]
     },
     "execution_count": 51,
     "metadata": {},
     "output_type": "execute_result"
    }
   ],
   "source": [
    "shops.isna().sum()"
   ]
  },
  {
   "cell_type": "code",
   "execution_count": 52,
   "id": "46b4e1d4-a0a3-4276-a869-9a4e5901bfe4",
   "metadata": {},
   "outputs": [],
   "source": [
    "shops.to_csv(\"shops_preprocessed.csv\", index=False)"
   ]
  },
  {
   "cell_type": "code",
   "execution_count": 54,
   "id": "8a08049a-e570-4901-a176-b9046bbdf5d3",
   "metadata": {},
   "outputs": [],
   "source": [
    "train = train.merge(shops, on=\"shop_id\", how=\"left\")"
   ]
  },
  {
   "cell_type": "code",
   "execution_count": 55,
   "id": "1fe17143-0595-47dc-8643-629e9fec3703",
   "metadata": {},
   "outputs": [
    {
     "data": {
      "text/plain": [
       "day               0\n",
       "shop_id           0\n",
       "check_id          0\n",
       "time              0\n",
       "sku               0\n",
       "promo_id          0\n",
       "check_pos         0\n",
       "num_sales         0\n",
       "supplier_price    0\n",
       "selling_price     0\n",
       "discount          0\n",
       "class             0\n",
       "group             0\n",
       "category          0\n",
       "subcategory       0\n",
       "division_id       0\n",
       "region_id         0\n",
       "city_id           0\n",
       "type_loc_id       0\n",
       "type_size_id      0\n",
       "type_format_id    0\n",
       "type_wealth_id    0\n",
       "is_store          0\n",
       "is_active         0\n",
       "is_ex_billa       0\n",
       "dtype: int64"
      ]
     },
     "execution_count": 55,
     "metadata": {},
     "output_type": "execute_result"
    }
   ],
   "source": [
    "train.isna().sum()"
   ]
  },
  {
   "cell_type": "code",
   "execution_count": 56,
   "id": "812d68f9-4f03-46e6-b518-def7d9b6ea6c",
   "metadata": {},
   "outputs": [
    {
     "data": {
      "text/plain": [
       "(21692960, 25)"
      ]
     },
     "execution_count": 56,
     "metadata": {},
     "output_type": "execute_result"
    }
   ],
   "source": [
    "train.shape"
   ]
  },
  {
   "cell_type": "code",
   "execution_count": 58,
   "id": "d9d2a393-27a0-4659-9316-5bda3477d66d",
   "metadata": {},
   "outputs": [],
   "source": [
    "train.to_csv(\"train_preprocessed_w_features.csv\", index=False)"
   ]
  },
  {
   "cell_type": "code",
   "execution_count": 59,
   "id": "f35a695e-3b5a-47be-a747-1e0d9fcd42a1",
   "metadata": {},
   "outputs": [],
   "source": [
    "test = pd.read_csv(\"test_preprocessed.csv\")"
   ]
  },
  {
   "cell_type": "code",
   "execution_count": 62,
   "id": "5ccc5728-4540-4fc6-92e0-33ebc14df0cd",
   "metadata": {},
   "outputs": [
    {
     "data": {
      "text/plain": [
       "(2666084, 23)"
      ]
     },
     "execution_count": 62,
     "metadata": {},
     "output_type": "execute_result"
    }
   ],
   "source": [
    "test.shape"
   ]
  },
  {
   "cell_type": "code",
   "execution_count": 61,
   "id": "16c0f9e8-350e-49ab-a6a0-56fe1d63b6b5",
   "metadata": {},
   "outputs": [],
   "source": [
    "test = test.merge(hierarchy, on='sku', how='left')\n",
    "test = test.merge(shops, on=\"shop_id\", how=\"left\")"
   ]
  },
  {
   "cell_type": "code",
   "execution_count": 63,
   "id": "0df5ec9e-5d87-4e3d-a2b0-53ef9b2ffb50",
   "metadata": {},
   "outputs": [
    {
     "data": {
      "text/plain": [
       "day               0\n",
       "shop_id           0\n",
       "check_id          0\n",
       "time              0\n",
       "sku               0\n",
       "promo_id          0\n",
       "supplier_price    0\n",
       "selling_price     0\n",
       "discount          0\n",
       "class             0\n",
       "group             0\n",
       "category          0\n",
       "subcategory       0\n",
       "division_id       0\n",
       "region_id         0\n",
       "city_id           0\n",
       "type_loc_id       0\n",
       "type_size_id      0\n",
       "type_format_id    0\n",
       "type_wealth_id    0\n",
       "is_store          0\n",
       "is_active         0\n",
       "is_ex_billa       0\n",
       "dtype: int64"
      ]
     },
     "execution_count": 63,
     "metadata": {},
     "output_type": "execute_result"
    }
   ],
   "source": [
    "test.isna().sum()"
   ]
  },
  {
   "cell_type": "code",
   "execution_count": 65,
   "id": "022ac7a6-8247-47eb-a5c0-d143fe47f3d5",
   "metadata": {},
   "outputs": [],
   "source": [
    "test.to_csv(\"test_preprocessed_w_features.csv\", index=False)"
   ]
  },
  {
   "cell_type": "markdown",
   "id": "7702e9ad-db58-4b26-aacc-f4541e1bcb6b",
   "metadata": {},
   "source": [
    "## Prices for test"
   ]
  },
  {
   "cell_type": "code",
   "execution_count": null,
   "id": "5d5b22fc-d2e6-4b58-af96-02d29d8259b1",
   "metadata": {},
   "outputs": [],
   "source": [
    "test = pd.read_csv('test_preprocessed_w_features.csv')\n",
    "test_pr = pd.read_csv('pricing_hackathon_prices_test.csv', names=['day', 'shop_id', 'sku', 'promo_id', 'reg_price', 'promo_price', 'reg_card_price'])"
   ]
  },
  {
   "cell_type": "code",
   "execution_count": null,
   "id": "40ec4455-18d3-46d6-af78-a47f905f39a2",
   "metadata": {},
   "outputs": [],
   "source": [
    "sku = pd.read_csv('sku.csv', index_col=0).to_dict()['sku']\n",
    "shop = pd.read_csv('shop_id.csv', index_col=0).to_dict()['shop_id']\n",
    "promo = pd.read_csv('promo_id.csv', index_col=0).to_dict()['promo_id']\n",
    "test_pr['shop_id'] = test_pr['shop_id'].map(shop)\n",
    "test_pr['sku']= test_pr['sku'].map(sku)\n",
    "test_pr['promo_id'] = test_pr['promo_id'].map(promo)"
   ]
  },
  {
   "cell_type": "code",
   "execution_count": null,
   "id": "8de1d359-fb57-4abf-90b5-fad917cdbd30",
   "metadata": {},
   "outputs": [],
   "source": [
    "test_pr['d'] = test_pr['day'].astype(str).apply(lambda x: str(f'{x[:4]}-{x[4:6]}-{x[6:]}'))\n",
    "test_pr['d'] = pd.to_datetime(test_pr['d'], format=\"%Y-%m-%d\")\n",
    "test['day'] = pd.to_datetime(test['day'], format=\"%Y-%m-%d\")\n",
    "test_pr['day'] = test_pr['d'].copy()"
   ]
  },
  {
   "cell_type": "code",
   "execution_count": null,
   "id": "2b3c5ab4-2186-4200-bb53-5a48721c999c",
   "metadata": {},
   "outputs": [],
   "source": [
    "test_pr = test_pr[test_pr.reg_price>0]\n",
    "test = test.merge(test_pr[['day', 'shop_id', 'sku', 'promo_id', 'reg_price','promo_price','reg_card_price']],\n",
    "                 how='left',\n",
    "                 on = ['day', 'shop_id', 'sku'])"
   ]
  },
  {
   "cell_type": "code",
   "execution_count": null,
   "id": "cb5defb2-74b0-46f5-9fd0-05d7b616fcdd",
   "metadata": {},
   "outputs": [],
   "source": [
    "test['num'] = np.round(((test['selling_price']+test['discount'])/test['reg_price']), 0)\n",
    "test['price'] = test['selling_price']/test['num']\n",
    "test['sell_in'] = test['supplier_price']/test['num']\n",
    "test.loc[test['sell_in'] == np.inf, 'num'] = 1\n",
    "test['price'] = test['selling_price']/test['num']\n",
    "test['sell_in'] = test['supplier_price']/test['num']\n",
    "test.loc[test.sell_in.isna(), 'num'] = 1\n",
    "test['price'] = test['selling_price']/test['num']\n",
    "test['sell_in'] = test['supplier_price']/test['num']\n",
    "test.rename({'promo_id_x': 'promo_id'}, axis=1, inplace=True)\n",
    "test.drop(columns=['promo_id_y', 'reg_price', 'promo_price', 'reg_card_price'], inplace=True)"
   ]
  },
  {
   "cell_type": "code",
   "execution_count": null,
   "id": "2f020cb2-d7ac-4488-886a-a3ab18da02c0",
   "metadata": {},
   "outputs": [],
   "source": [
    "test.to_csv('test_new.csv')"
   ]
  }
 ],
 "metadata": {
  "kernelspec": {
   "display_name": "Python 3 (ipykernel)",
   "language": "python",
   "name": "python3"
  },
  "language_info": {
   "codemirror_mode": {
    "name": "ipython",
    "version": 3
   },
   "file_extension": ".py",
   "mimetype": "text/x-python",
   "name": "python",
   "nbconvert_exporter": "python",
   "pygments_lexer": "ipython3",
   "version": "3.9.7"
  }
 },
 "nbformat": 4,
 "nbformat_minor": 5
}
